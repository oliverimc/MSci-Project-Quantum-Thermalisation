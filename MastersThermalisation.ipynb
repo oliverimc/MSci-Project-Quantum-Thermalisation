{
 "cells": [
  {
   "cell_type": "code",
   "execution_count": 1,
   "metadata": {},
   "outputs": [],
   "source": [
    "from Quantum_functions import *\n",
    "\n",
    "import qutip as q\n",
    "from itertools import product\n",
    "from scipy.special import comb\n",
    "from math import sqrt\n",
    "from time import time\n",
    "from numpy.random import normal\n",
    "from numpy.linalg import norm"
   ]
  },
  {
   "cell_type": "markdown",
   "metadata": {},
   "source": [
    "## Testing equilibration of spin system to theoretical bound\n",
    "### Defining system\n"
   ]
  },
  {
   "cell_type": "code",
   "execution_count": 2,
   "metadata": {},
   "outputs": [],
   "source": [
    "n= 9\n",
    "initial_state = tensor([basis(2,0)]*n)\n",
    "#number of spins\n",
    "\n",
    "beta0 = lambda n,m: 0\n",
    "\n",
    "def beta1(n,m):\n",
    "    if m ==2:\n",
    "        return 1\n",
    "    else:\n",
    "        return 0"
   ]
  },
  {
   "cell_type": "code",
   "execution_count": 3,
   "metadata": {},
   "outputs": [],
   "source": [
    "#spin ring\n",
    "alpha1 = Heisenberg1dRingGen(-1,1,1,n)\n",
    "H1 = hamiltonian(alpha1,beta0, n)\n",
    "H1=H1/H1.norm()\n",
    "assert(H1.isherm)"
   ]
  },
  {
   "cell_type": "code",
   "execution_count": 4,
   "metadata": {},
   "outputs": [],
   "source": [
    "#perturbed spin ring\n",
    "alpha1 = Heisenberg1dRingGen(-1,1,1,n)\n",
    "H1i = hamiltonian(alpha1,beta1, n)\n",
    "H1i = H1i/H1i.norm()\n",
    "assert(H1i.isherm)"
   ]
  },
  {
   "cell_type": "code",
   "execution_count": 5,
   "metadata": {},
   "outputs": [],
   "source": [
    "#perturbed spin ring with random added random pertubation\n",
    "alpha1 = Heisenberg1dRingGen(-1,1,1,n)\n",
    "H1ir = hamiltonian(alpha1,beta1, n) \n",
    "\n",
    "perturbation: Qobj = make_hermitian(rand_unitary(2**n, dims = H1ir.dims))\n",
    "perturbation = perturbation/perturbation.norm()\n",
    "epsilon = 0.3\n",
    "\n",
    "H1ir = H1i/H1i.norm()\n",
    "\n",
    "H1ir+=epsilon*perturbation\n",
    "H1ir = H1i/H1i.norm()\n",
    "assert(H1ir.isherm)"
   ]
  },
  {
   "cell_type": "code",
   "execution_count": 6,
   "metadata": {},
   "outputs": [],
   "source": [
    "#random hamiltonian\n",
    "H2 = make_hermitian(rand_unitary(2**n, dims = H1.dims))\n",
    "H2= H2/H2.norm()\n",
    "assert(H2.isherm)"
   ]
  },
  {
   "cell_type": "code",
   "execution_count": 7,
   "metadata": {},
   "outputs": [],
   "source": [
    "#spin chain\n",
    "alpha3 = Heisenberg1dChainGen(-1,0,1,n)\n",
    "H3 = hamiltonian(alpha3,beta0, n)\n",
    "H3 = H3/H3.norm()\n",
    "assert(H3.isherm)"
   ]
  },
  {
   "cell_type": "markdown",
   "metadata": {},
   "source": [
    "### Analysing energy eigenvalues"
   ]
  },
  {
   "cell_type": "code",
   "execution_count": null,
   "metadata": {},
   "outputs": [],
   "source": [
    "print(len(H1.eigenenergies()))\n",
    "print(len(set(H1.eigenenergies())))\n",
    "print(len(H1i.eigenenergies()))\n",
    "print(len(set(H1i.eigenenergies())))\n",
    "print(len(H1ir.eigenenergies()))\n",
    "print(len(set(H1ir.eigenenergies())))\n",
    "print(len(H2.eigenenergies()))\n",
    "print(len(set(H2.eigenenergies())))\n",
    "\n"
   ]
  },
  {
   "cell_type": "markdown",
   "metadata": {},
   "source": [
    "### Simulating"
   ]
  },
  {
   "cell_type": "code",
   "execution_count": null,
   "metadata": {},
   "outputs": [],
   "source": [
    "final_t = 100000\n",
    "steps = 300\n",
    "\n",
    "equilibration_analyser(H1,initial_state,final_t,steps)"
   ]
  },
  {
   "cell_type": "code",
   "execution_count": null,
   "metadata": {},
   "outputs": [],
   "source": [
    "final_t = 100000\n",
    "steps = 300\n",
    "\n",
    "equilibration_analyser(H1i,initial_state,final_t,steps)"
   ]
  },
  {
   "cell_type": "code",
   "execution_count": null,
   "metadata": {},
   "outputs": [],
   "source": [
    "final_t = 100000\n",
    "steps = 300\n",
    "\n",
    "equilibration_analyser(H1ir,initial_state,final_t,steps)"
   ]
  },
  {
   "cell_type": "code",
   "execution_count": null,
   "metadata": {},
   "outputs": [],
   "source": [
    "final_t = 100000\n",
    "steps = 300\n",
    "\n",
    "s = time()\n",
    "equilibration_analyser(H2,initial_state,final_t,steps)\n",
    "e = time()\n",
    "print(e-s)"
   ]
  },
  {
   "cell_type": "code",
   "execution_count": null,
   "metadata": {},
   "outputs": [],
   "source": [
    "\n",
    "equilibration_analyser(H3,initial_state,final_t,steps)"
   ]
  },
  {
   "cell_type": "markdown",
   "metadata": {},
   "source": [
    "## Testing Trace distance vs energy distance for eigenstates of a hamiltonian"
   ]
  },
  {
   "cell_type": "code",
   "execution_count": 2,
   "metadata": {},
   "outputs": [],
   "source": [
    "n = 8\n",
    "state1 = tensor([basis(2,0)]*n)\n",
    "\n",
    "alpha1 = Heisenberg1dRingGen(1,1,1,n)\n",
    "alpha0 = lambda n,m,i,j: 0\n",
    "beta1 = lambda n,i : [0,0,1][i]\n",
    "beta0 = lambda n,i :0\n",
    "\n",
    "self_interaction = hamiltonian(alpha1,beta0,n)\n",
    "self_interaction = self_interaction/self_interaction.norm()\n",
    "external_interaction = hamiltonian(alpha0,beta1,n)\n",
    "external_interaction = external_interaction/external_interaction.norm()\n",
    "\n",
    "\n",
    "perturbation: Qobj = make_hermitian(rand_unitary(2**n, dims = self_interaction.dims))\n",
    "perturbation = perturbation/perturbation.norm()\n",
    "epsilon = 0.1\n",
    "\n",
    "H1 = epsilon*self_interaction + external_interaction + epsilon**2*perturbation\n",
    "H2 = external_interaction\n",
    "H3 = external_interaction + epsilon*perturbation\n",
    "H4 = self_interaction + epsilon*external_interaction + epsilon**2*perturbation"
   ]
  },
  {
   "cell_type": "markdown",
   "metadata": {},
   "source": [
    "### Examining with no pertubation"
   ]
  },
  {
   "cell_type": "code",
   "execution_count": null,
   "metadata": {},
   "outputs": [],
   "source": [
    "s= time()\n",
    "xs,ys = energy_trace_comp_2d(H2,1,1)\n",
    "e = time()\n",
    "print(e-s)"
   ]
  },
  {
   "cell_type": "code",
   "execution_count": null,
   "metadata": {},
   "outputs": [],
   "source": [
    "plt.scatter(xs,ys,s=5)\n",
    "plt.xlabel(\"Energy Difference\")\n",
    "plt.ylabel(\"Trace Distance\")\n",
    "plt.savefig(\"only_ext_8\")\n",
    "plt.show()\n"
   ]
  },
  {
   "cell_type": "markdown",
   "metadata": {},
   "source": [
    "#### Examining with pertubation"
   ]
  },
  {
   "cell_type": "code",
   "execution_count": null,
   "metadata": {},
   "outputs": [],
   "source": [
    "s= time()\n",
    "xs,ys = energy_trace_comp_2d(H3,1,1)\n",
    "e = time()\n",
    "print(e-s)"
   ]
  },
  {
   "cell_type": "code",
   "execution_count": null,
   "metadata": {},
   "outputs": [],
   "source": [
    "plt.scatter(xs,ys,s=1)\n",
    "plt.xlabel(\"Energy Difference\")\n",
    "plt.ylabel(\"Trace Distance\")\n",
    "#plt.savefig(\"ext_per_8\")\n",
    "plt.show()"
   ]
  },
  {
   "cell_type": "markdown",
   "metadata": {},
   "source": [
    "#### Examining with pertubation and interaction terms, tracing onto 1 Spin"
   ]
  },
  {
   "cell_type": "code",
   "execution_count": 6,
   "metadata": {},
   "outputs": [
    {
     "name": "stderr",
     "output_type": "stream",
     "text": [
      "65536it [01:16, 855.01it/s]\n"
     ]
    }
   ],
   "source": [
    "xs,ys = energy_trace_comp_2d(H1,1,1)"
   ]
  },
  {
   "cell_type": "code",
   "execution_count": 7,
   "metadata": {},
   "outputs": [
    {
     "data": {
      "image/png": "[encoded data removed]",
      "text/plain": [
       "<Figure size 432x288 with 1 Axes>"
      ]
     },
     "metadata": {
      "needs_background": "light"
     },
     "output_type": "display_data"
    }
   ],
   "source": [
    "plt.scatter(xs,ys,s=1)\n",
    "plt.xlabel(\"Energy Difference\")\n",
    "plt.ylabel(\"Trace Distance\")\n",
    "#plt.savefig(\"ext_inter_8\")\n",
    "plt.show()"
   ]
  },
  {
   "cell_type": "markdown",
   "metadata": {},
   "source": [
    "### Examining mainly interaction with external and random pertubation"
   ]
  },
  {
   "cell_type": "code",
   "execution_count": 9,
   "metadata": {},
   "outputs": [
    {
     "name": "stderr",
     "output_type": "stream",
     "text": [
      "65536it [01:16, 858.22it/s]\n"
     ]
    }
   ],
   "source": [
    "xs,ys = energy_trace_comp_2d(H4,1,1)"
   ]
  },
  {
   "cell_type": "code",
   "execution_count": 10,
   "metadata": {},
   "outputs": [
    {
     "data": {
      "image/png": "[encoded data removed]",
      "text/plain": [
       "<Figure size 432x288 with 1 Axes>"
      ]
     },
     "metadata": {
      "needs_background": "light"
     },
     "output_type": "display_data"
    }
   ],
   "source": [
    "plt.scatter(xs,ys,s=1)\n",
    "plt.xlabel(\"Energy Difference\")\n",
    "plt.ylabel(\"Trace Distance\")\n",
    "plt.savefig(\"inter_ext_8\")\n",
    "plt.show()"
   ]
  },
  {
   "cell_type": "markdown",
   "metadata": {},
   "source": [
    "### Examining  tracing onto different number of spins "
   ]
  },
  {
   "cell_type": "code",
   "execution_count": 3,
   "metadata": {},
   "outputs": [
    {
     "name": "stderr",
     "output_type": "stream",
     "text": [
      "65536it [01:10, 928.54it/s] \n"
     ]
    }
   ],
   "source": [
    "xs,ys = energy_trace_comp_2d(H1,1,1)"
   ]
  },
  {
   "cell_type": "code",
   "execution_count": 9,
   "metadata": {},
   "outputs": [
    {
     "data": {
      "image/png": "[encoded data removed]",
      "text/plain": [
       "<Figure size 432x288 with 1 Axes>"
      ]
     },
     "metadata": {
      "needs_background": "light"
     },
     "output_type": "display_data"
    }
   ],
   "source": [
    "plt.scatter(xs,ys,s=1)\n",
    "plt.xlabel(\"Energy Difference\")\n",
    "plt.ylabel(\"Trace Distance\")\n",
    "plt.savefig(\"1subEvTr8S\")\n",
    "plt.show()"
   ]
  },
  {
   "cell_type": "code",
   "execution_count": 5,
   "metadata": {},
   "outputs": [
    {
     "name": "stderr",
     "output_type": "stream",
     "text": [
      "65536it [01:11, 919.18it/s]\n"
     ]
    }
   ],
   "source": [
    "xs2,ys2 = energy_trace_comp_2d(H1,1,2)"
   ]
  },
  {
   "cell_type": "code",
   "execution_count": 10,
   "metadata": {},
   "outputs": [
    {
     "data": {
      "image/png": "[encoded data removed]",
      "text/plain": [
       "<Figure size 432x288 with 1 Axes>"
      ]
     },
     "metadata": {
      "needs_background": "light"
     },
     "output_type": "display_data"
    }
   ],
   "source": [
    "plt.scatter(xs2,ys2,s=1, c='r')\n",
    "plt.xlabel(\"Energy Difference\")\n",
    "plt.ylabel(\"Trace Distance\")\n",
    "plt.savefig(\"2subEvTr8S\")\n",
    "plt.show()"
   ]
  },
  {
   "cell_type": "code",
   "execution_count": null,
   "metadata": {},
   "outputs": [],
   "source": [
    "xs3,ys3 = energy_trace_comp_2d(H3,1,3)"
   ]
  },
  {
   "cell_type": "markdown",
   "metadata": {},
   "source": [
    "#### Altering Size of Sytem"
   ]
  },
  {
   "cell_type": "code",
   "execution_count": 28,
   "metadata": {},
   "outputs": [],
   "source": [
    "n = 5\n",
    "state1 = tensor([basis(2,0)]*n)\n",
    "\n",
    "alpha1 = Heisenberg1dRingGen(1,1,1,n)\n",
    "alpha0 = lambda n,m,i,j: 0\n",
    "beta1 = lambda n,i : [0,0,1][i]\n",
    "beta0 = lambda n,i :0\n",
    "\n",
    "self_interaction = hamiltonian(alpha1,beta0,n)\n",
    "self_interaction = self_interaction/self_interaction.norm()\n",
    "external_interaction = hamiltonian(alpha0,beta1,n)\n",
    "external_interaction = external_interaction/external_interaction.norm()\n",
    "\n",
    "\n",
    "perturbation: Qobj = make_hermitian(rand_unitary(2**n, dims = self_interaction.dims))\n",
    "perturbation = perturbation/perturbation.norm()\n",
    "epsilon = 0.1\n",
    "\n",
    "H1 = epsilon*self_interaction + external_interaction + epsilon**2*perturbation"
   ]
  },
  {
   "cell_type": "code",
   "execution_count": 29,
   "metadata": {},
   "outputs": [
    {
     "name": "stderr",
     "output_type": "stream",
     "text": [
      "1024it [00:01, 956.57it/s]\n"
     ]
    }
   ],
   "source": [
    "xs,ys = energy_trace_comp_2d(H1,1,1)"
   ]
  },
  {
   "cell_type": "code",
   "execution_count": 31,
   "metadata": {},
   "outputs": [
    {
     "data": {
      "image/png": "[encoded data removed]",
      "text/plain": [
       "<Figure size 432x288 with 1 Axes>"
      ]
     },
     "metadata": {
      "needs_background": "light"
     },
     "output_type": "display_data"
    }
   ],
   "source": [
    "plt.scatter(xs,ys,s=1, c='b')\n",
    "plt.xlabel(\"Energy Difference\")\n",
    "plt.ylabel(\"Trace Distance\")\n",
    "plt.savefig(\"sys5TrVsE\")\n",
    "plt.show()"
   ]
  },
  {
   "cell_type": "markdown",
   "metadata": {},
   "source": [
    "### Explicity examining eigenvalues of an external interaction Hamiltonian"
   ]
  },
  {
   "cell_type": "code",
   "execution_count": null,
   "metadata": {},
   "outputs": [],
   "source": [
    "from qutip import sigmaz\n",
    "sigz = sigmaz()\n",
    "num_energies = []\n",
    "num_states = []\n",
    "\n",
    "N = 2\n",
    "H = [hamiltonian_spin_on_site_component(1,i,2,N) for i in range(N)]\n",
    "H2 = sum(H)\n",
    "\n",
    "\n",
    "\n",
    "energies,states = H2.eigenstates()\n",
    "\n",
    "unique_energies = set(energies)\n",
    "n_energies, n_states = len(unique_energies),len(states)\n",
    "\n",
    "differences = [abs(e1-e2) for e1,e2 in product(unique_energies,unique_energies)]\n",
    "unique_differences = set(differences)\n",
    "                           \n",
    "n_differences = len(unique_differences)\n",
    "                           \n",
    "print(n_states)\n",
    "print(len(energies))\n",
    "print(n_energies)\n",
    "print(n_differences)                         \n",
    "print(energies)\n",
    "    \n",
    "\n",
    "\n"
   ]
  },
  {
   "cell_type": "markdown",
   "metadata": {},
   "source": [
    "### Explicitly examining eigenstates and result of tracing over them"
   ]
  },
  {
   "cell_type": "code",
   "execution_count": null,
   "metadata": {},
   "outputs": [],
   "source": [
    "from qutip.states import ket2dm,basis\n",
    "for state in states:\n",
    "    print(state,ket2dm(state).ptrace(1))\n",
    "    print(\"-------------------------\")\n",
    "    \n",
    "# note | 00 > = (1,0,0,0) not direct like (0,0)!\n"
   ]
  },
  {
   "cell_type": "markdown",
   "metadata": {},
   "source": [
    "### Examining Eigenstates grouping with and without pertubation"
   ]
  },
  {
   "cell_type": "code",
   "execution_count": null,
   "metadata": {},
   "outputs": [],
   "source": [
    "#without\n",
    "plt.hist(H2.eigenenergies(), bins=100)\n",
    "plt.xlabel(\"Energy\")\n",
    "plt.ylabel(\"#states\")\n",
    "plt.show()"
   ]
  },
  {
   "cell_type": "code",
   "execution_count": null,
   "metadata": {},
   "outputs": [],
   "source": [
    "#with\n",
    "plt.hist(H3.eigenenergies(),bins=100)\n",
    "plt.xlabel(\"Energy\")\n",
    "plt.ylabel(\"#states\")\n",
    "plt.show()"
   ]
  },
  {
   "cell_type": "markdown",
   "metadata": {},
   "source": [
    "### Picking out specifically the 0 Band to get effects need epsilon to be less than half energy difference between bands"
   ]
  },
  {
   "cell_type": "code",
   "execution_count": null,
   "metadata": {},
   "outputs": [],
   "source": [
    "zero_band_energies  = list(filter(lambda val: -0.002<val<0.002 ,H3.eigenenergies()))"
   ]
  },
  {
   "cell_type": "code",
   "execution_count": null,
   "metadata": {},
   "outputs": [],
   "source": [
    "plt.hist(zero_band_energies,bins=100)\n",
    "plt.xlabel(\"Energy\")\n",
    "plt.ylabel(\"#states\")\n",
    "plt.show()"
   ]
  },
  {
   "cell_type": "code",
   "execution_count": null,
   "metadata": {},
   "outputs": [],
   "source": [
    "energies,states = H3.eigenstates()\n",
    "energy_state = zip(energies,states)\n",
    "energy_state = list(energy_state)\n",
    "zero_energy_states = list((filter(lambda val: -0.002<val[0]<0.002, energy_state)))\n",
    "print(len(zero_energy_states))"
   ]
  },
  {
   "cell_type": "code",
   "execution_count": null,
   "metadata": {},
   "outputs": [],
   "source": [
    "difference = 0\n",
    "count = 0\n",
    "\n",
    "\n",
    "for state1,state2 in tqdm(product(zero_energy_states,zero_energy_states)):\n",
    "    if state1!=state2:\n",
    "        difference+=tracedist(state1[1].ptrace(0),state2[1].ptrace(0))\n",
    "        count+=1\n",
    "        \n",
    "print(difference/count)\n"
   ]
  },
  {
   "cell_type": "markdown",
   "metadata": {},
   "source": [
    "### ANALYTICAL BOUND \n",
    "##### \\begin{equation} d_s\\sqrt{\\frac{2^{n_s+1}}{d_R}-\\frac{2^{n_b+1}}{d_R^2-1}}\\end{equation}\n",
    "##### Value of 0.47 for this system "
   ]
  },
  {
   "cell_type": "markdown",
   "metadata": {},
   "source": [
    "### Trying out bigger system "
   ]
  },
  {
   "cell_type": "code",
   "execution_count": null,
   "metadata": {},
   "outputs": [],
   "source": [
    "n = 9\n",
    "state1 = tensor([basis(2,0)]*n)\n",
    "\n",
    "alpha1 = Heisenberg1dRingGen(1,1,1,n)\n",
    "alpha0 = lambda n,m,i,j: 0\n",
    "beta1 = lambda n,i : [0,0,1][i]\n",
    "beta0 = lambda n,i :0\n",
    "\n",
    "self_interaction = hamiltonian(alpha1,beta0,n)\n",
    "self_interaction = self_interaction/self_interaction.norm()\n",
    "external_interaction = hamiltonian(alpha0,beta1,n)\n",
    "external_interaction = external_interaction/external_interaction.norm()\n",
    "\n",
    "\n",
    "perturbation: Qobj = make_hermitian(rand_unitary(2**n, dims = self_interaction.dims))\n",
    "perturbation = perturbation/perturbation.norm()\n",
    "epsilon = 0.1\n",
    "\n",
    "H1 = epsilon*self_interaction + external_interaction + epsilon**2*perturbation\n",
    "H2 = external_interaction\n",
    "H3 = external_interaction + epsilon*perturbation\n",
    "H4 = external_interaction + epsilon*self_interaction"
   ]
  },
  {
   "cell_type": "code",
   "execution_count": null,
   "metadata": {},
   "outputs": [],
   "source": [
    "#without\n",
    "plt.hist(H2.eigenenergies(), bins=100)\n",
    "plt.xlabel(\"Energy\")\n",
    "plt.ylabel(\"#states\")\n",
    "plt.show()"
   ]
  },
  {
   "cell_type": "code",
   "execution_count": null,
   "metadata": {},
   "outputs": [],
   "source": [
    "#with\n",
    "plt.hist(H3.eigenenergies(),bins=100)\n",
    "plt.xlabel(\"Energy\")\n",
    "plt.ylabel(\"#states\")\n",
    "plt.show()"
   ]
  },
  {
   "cell_type": "code",
   "execution_count": null,
   "metadata": {},
   "outputs": [],
   "source": [
    "zero_band_energies  = list(filter(lambda val: 0<val<0.0015 ,H3.eigenenergies()))"
   ]
  },
  {
   "cell_type": "code",
   "execution_count": null,
   "metadata": {},
   "outputs": [],
   "source": [
    "plt.hist(zero_band_energies,bins=100)\n",
    "plt.xlabel(\"Energy\")\n",
    "plt.ylabel(\"#states\")\n",
    "plt.show()"
   ]
  },
  {
   "cell_type": "code",
   "execution_count": null,
   "metadata": {},
   "outputs": [],
   "source": [
    "energies,states = H3.eigenstates()\n",
    "energy_state = zip(energies,states)\n",
    "energy_state = list(energy_state)\n",
    "zero_energy_states = list((filter(lambda val: 0<val[0]<0.0015, energy_state)))\n",
    "print(len(zero_energy_states))"
   ]
  },
  {
   "cell_type": "code",
   "execution_count": null,
   "metadata": {},
   "outputs": [],
   "source": [
    "difference = 0\n",
    "count = 0\n",
    "\n",
    "\n",
    "for state1,state2 in tqdm(product(zero_energy_states,zero_energy_states)):\n",
    "    if state1!=state2:\n",
    "        difference+=tracedist(state1[1].ptrace(0),state2[1].ptrace(0))\n",
    "        count+=1\n",
    "        \n",
    "print(difference/count)"
   ]
  },
  {
   "cell_type": "markdown",
   "metadata": {},
   "source": [
    "##### Calculating explicit Analytical value not bounded "
   ]
  },
  {
   "cell_type": "code",
   "execution_count": null,
   "metadata": {},
   "outputs": [],
   "source": [
    "#Exact value of distance without bounding\n",
    "\n",
    "def bound(nb,ns,n0):\n",
    "    n = nb+ns\n",
    "    d = comb(n,n0)\n",
    "    beta = 2/(d**2-1)\n",
    "    alpha = beta * -1/d\n",
    "    lhsum = sum([comb(nb,n0-x)**2*comb(ns,x) for x in range(min(ns,n0)+1)])\n",
    "    rhsum  = sum([comb(nb,n0-x)*comb(ns,x)**2 for x in range(min(ns,n0)+1)])\n",
    "    return 2**ns*sqrt(alpha*lhsum+ beta*rhsum) #BRING INSIDE!!"
   ]
  },
  {
   "cell_type": "code",
   "execution_count": null,
   "metadata": {},
   "outputs": [],
   "source": [
    "print(bound(8,1,4))\n",
    "print(bound(9,1,5))\n",
    "#ANALYTICAL FIX STUFF LIKE DS AND NOT DOING THE -1 thing then recalcuatle TODOD"
   ]
  },
  {
   "cell_type": "markdown",
   "metadata": {},
   "source": [
    "### Plotting Energy level diagram"
   ]
  },
  {
   "cell_type": "code",
   "execution_count": null,
   "metadata": {},
   "outputs": [],
   "source": [
    "energy_band_plot(H2, \"Unperturbed\")"
   ]
  },
  {
   "cell_type": "code",
   "execution_count": null,
   "metadata": {},
   "outputs": [],
   "source": [
    "energy_band_plot(H3, \"Perturbed\")"
   ]
  },
  {
   "cell_type": "code",
   "execution_count": null,
   "metadata": {},
   "outputs": [],
   "source": [
    "energy_band_plot(H4, \"Interaction\")"
   ]
  },
  {
   "cell_type": "code",
   "execution_count": null,
   "metadata": {},
   "outputs": [],
   "source": [
    "energy_band_plot(H1, \"Interaction and Pertubation\")"
   ]
  },
  {
   "cell_type": "markdown",
   "metadata": {},
   "source": [
    "### Thermalisation test ASK TONY MATHS IS IFFY focus on dr and size of the subspace ie vector where problem lies"
   ]
  },
  {
   "cell_type": "code",
   "execution_count": null,
   "metadata": {},
   "outputs": [],
   "source": [
    "n = 9\n",
    "\n",
    "\n",
    "alpha1 = Heisenberg1dRingGen(1,1,1,n)\n",
    "alpha0 = lambda n,m,i,j: 0\n",
    "beta1 = lambda n,i : [0,0,1][i]\n",
    "beta0 = lambda n,i :0\n",
    "\n",
    "self_interaction = hamiltonian(alpha1,beta0,n)\n",
    "self_interaction = self_interaction/self_interaction.norm()\n",
    "external_interaction = hamiltonian(alpha0,beta1,n)\n",
    "external_interaction = external_interaction/external_interaction.norm()\n",
    "\n",
    "\n",
    "perturbation: Qobj = make_hermitian(rand_unitary(2**n, dims = self_interaction.dims))\n",
    "perturbation = perturbation/perturbation.norm()\n",
    "epsilon = 0.3\n",
    "\n",
    "H1 = epsilon*self_interaction + external_interaction + epsilon**2*perturbation\n",
    "H2 = external_interaction\n",
    "H3 = external_interaction + epsilon*perturbation\n",
    "H4 = external_interaction + epsilon*self_interaction"
   ]
  },
  {
   "cell_type": "code",
   "execution_count": null,
   "metadata": {
    "tags": [
     "outputPrepend",
     "outputPrepend"
    ]
   },
   "outputs": [],
   "source": [
    "energys,states= H3.eigenstates()"
   ]
  },
  {
   "cell_type": "code",
   "execution_count": null,
   "metadata": {
    "tags": [
     "outputPrepend",
     "outputPrepend"
    ]
   },
   "outputs": [],
   "source": [
    "energy_range = max(energys)-min(energys)\n",
    "band_range = energy_range/45\n",
    "energy_states = zip(energys,states)\n",
    "band = list(filter(lambda e: -band_range<e[0]<band_range,energy_states))\n",
    "band_len = len(band)\n",
    "band_states = [val[1] for val in band]\n",
    "print(band_len)\n",
    "print(len(band_states))"
   ]
  },
  {
   "cell_type": "code",
   "execution_count": null,
   "metadata": {},
   "outputs": [],
   "source": [
    "vec = normal(size = band_len)\n",
    "vec = vec/norm(vec)\n",
    "\n",
    "assert(len(vec)==band_len)\n",
    "\n",
    "init_state = sum(c*state for c,state in zip(vec,band_states))\n",
    "equilb_state = sum(c**2*state*state.dag() for c,state in zip(vec,band_states))\n",
    "\n",
    "print(1/sum(c**4 for c in vec))\n",
    "\n",
    "\n"
   ]
  },
  {
   "cell_type": "code",
   "execution_count": null,
   "metadata": {},
   "outputs": [],
   "source": [
    "thermalisation_analyser(init_state, equilb_state, band_states)"
   ]
  },
  {
   "cell_type": "code",
   "execution_count": null,
   "metadata": {},
   "outputs": [],
   "source": [
    "### ABOVE STILL TO PARELLISE AND FORMALISE"
   ]
  },
  {
   "cell_type": "code",
   "execution_count": null,
   "metadata": {},
   "outputs": [],
   "source": []
  }
 ],
 "metadata": {
  "kernelspec": {
   "display_name": "Python 3",
   "language": "python",
   "name": "python3"
  },
  "language_info": {
   "codemirror_mode": {
    "name": "ipython",
    "version": 3
   },
   "file_extension": ".py",
   "mimetype": "text/x-python",
   "name": "python",
   "nbconvert_exporter": "python",
   "pygments_lexer": "ipython3",
   "version": "3.6.9"
  }
 },
 "nbformat": 4,
 "nbformat_minor": 4
}
