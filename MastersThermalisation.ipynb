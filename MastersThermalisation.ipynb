{
 "cells": [
  {
   "cell_type": "code",
   "execution_count": null,
   "metadata": {},
   "outputs": [],
   "source": [
    "from QuantumLib import *\n",
    "from itertools import product\n",
    "\n",
    "import qutip as q\n",
    "from scipy.special import comb\n",
    "\n",
    "from numpy.random import normal\n",
    "from numpy.linalg import norm\n",
    "from numpy import exp,sqrt\n",
    "import numpy as np"
   ]
  },
  {
   "cell_type": "code",
   "execution_count": null,
   "metadata": {},
   "outputs": [],
   "source": [
    "ray.init()"
   ]
  },
  {
   "cell_type": "markdown",
   "metadata": {},
   "source": [
    "## Testing equilibration of spin system to theoretical bound\n",
    "### Defining system\n"
   ]
  },
  {
   "cell_type": "code",
   "execution_count": null,
   "metadata": {},
   "outputs": [],
   "source": [
    "n= 9\n",
    "initial_state = tensor([basis(2,0)]*n)\n",
    "#number of spins\n",
    "\n",
    "beta0 = lambda n,m: 0\n",
    "\n",
    "def beta1(n,m):\n",
    "    if m ==2:\n",
    "        return 1\n",
    "    else:\n",
    "        return 0"
   ]
  },
  {
   "cell_type": "code",
   "execution_count": null,
   "metadata": {},
   "outputs": [],
   "source": [
    "#spin ring\n",
    "alpha1 = Heisenberg1dRingGen(-1,1,1,n)\n",
    "H1 = hamiltonian(alpha1,beta0, n)\n",
    "H1=H1/H1.norm()\n",
    "assert(H1.isherm)"
   ]
  },
  {
   "cell_type": "code",
   "execution_count": null,
   "metadata": {},
   "outputs": [],
   "source": [
    "#spin ring with external field\n",
    "alpha1 = Heisenberg1dRingGen(-1,1,1,n)\n",
    "H1i = hamiltonian(alpha1,beta1, n)\n",
    "H1i = H1i/H1i.norm()\n",
    "assert(H1i.isherm)"
   ]
  },
  {
   "cell_type": "code",
   "execution_count": null,
   "metadata": {},
   "outputs": [],
   "source": [
    "#spin ring with external field and added random pertubation\n",
    "alpha1 = Heisenberg1dRingGen(-1,1,1,n)\n",
    "H1ir = hamiltonian(alpha1,beta1, n) \n",
    "\n",
    "perturbation: Qobj = random_herm_oper(H1ir.dims,n)\n",
    "perturbation = perturbation/perturbation.norm()\n",
    "epsilon = 0.3\n",
    "\n",
    "H1ir = H1i/H1i.norm()\n",
    "\n",
    "H1ir+=epsilon*perturbation\n",
    "H1ir = H1i/H1i.norm()\n",
    "assert(H1ir.isherm)"
   ]
  },
  {
   "cell_type": "code",
   "execution_count": null,
   "metadata": {},
   "outputs": [],
   "source": [
    "#random hamiltonian\n",
    "H2 = random_herm_oper(H1ir.dims,n)\n",
    "H2= H2/H2.norm()\n",
    "assert(H2.isherm)"
   ]
  },
  {
   "cell_type": "code",
   "execution_count": null,
   "metadata": {},
   "outputs": [],
   "source": [
    "#spin chain\n",
    "alpha3 = Heisenberg1dChainGen(-1,0,1,n)\n",
    "H3 = hamiltonian(alpha3,beta0, n)\n",
    "H3 = H3/H3.norm()\n",
    "assert(H3.isherm)"
   ]
  },
  {
   "cell_type": "markdown",
   "metadata": {},
   "source": [
    "### Simulating"
   ]
  },
  {
   "cell_type": "code",
   "execution_count": null,
   "metadata": {},
   "outputs": [],
   "source": [
    "final_t = 100000\n",
    "steps = 200\n",
    "\n",
    "energys,states = H1.eigenstates()\n",
    "\n",
    "equilibration_analyser_p(energys,states,initial_state,final_t,steps, \"H1\")"
   ]
  },
  {
   "cell_type": "code",
   "execution_count": null,
   "metadata": {},
   "outputs": [],
   "source": [
    "final_t = 100000\n",
    "steps = 200\n",
    "\n",
    "\n",
    "energys,states = H1i.eigenstates()\n",
    "\n",
    "equilibration_analyser_p(energys,states,initial_state,final_t,steps, \"H1i\")"
   ]
  },
  {
   "cell_type": "code",
   "execution_count": null,
   "metadata": {},
   "outputs": [],
   "source": [
    "final_t = 100000\n",
    "steps = 200\n",
    "\n",
    "\n",
    "energys,states = H1ir.eigenstates()\n",
    "\n",
    "equilibration_analyser_p(energys,states,initial_state,final_t,steps, \"H1ir\")"
   ]
  },
  {
   "cell_type": "code",
   "execution_count": null,
   "metadata": {},
   "outputs": [],
   "source": [
    "final_t = 100000\n",
    "steps = 200\n",
    "\n",
    "\n",
    "energys,states = H2.eigenstates()\n",
    "\n",
    "equilibration_analyser_p(energys,states,initial_state,final_t,steps, \"H2\")"
   ]
  },
  {
   "cell_type": "code",
   "execution_count": null,
   "metadata": {},
   "outputs": [],
   "source": [
    "final_t = 100000\n",
    "steps = 200\n",
    "\n",
    "energys,states = H3.eigenstates()\n",
    "\n",
    "equilibration_analyser_p(energys,states,initial_state,final_t,steps, \"H3\")"
   ]
  },
  {
   "cell_type": "markdown",
   "metadata": {},
   "source": [
    "## Testing Trace distance vs energy distance for eigenstates of a hamiltonian"
   ]
  },
  {
   "cell_type": "code",
   "execution_count": null,
   "metadata": {},
   "outputs": [],
   "source": [
    "n = 8\n",
    "processors =4\n",
    "state1 = tensor([basis(2,0)]*n)\n",
    "\n",
    "alpha1 = Heisenberg1dRingGen(1,1,1,n)\n",
    "alpha0 = lambda n,m,i,j: 0\n",
    "beta1 = lambda n,i : [0,0,1][i]\n",
    "beta0 = lambda n,i :0\n",
    "\n",
    "self_interaction = hamiltonian(alpha1,beta0,n)\n",
    "self_interaction = self_interaction/self_interaction.norm()\n",
    "external_interaction = hamiltonian(alpha0,beta1,n)\n",
    "external_interaction = external_interaction/external_interaction.norm()\n",
    "\n",
    "\n",
    "perturbation: Qobj = random_herm_oper(self_interaction.dims,n)\n",
    "perturbation = perturbation/perturbation.norm()\n",
    "epsilon = 0.1\n",
    "\n",
    "H1 = epsilon*self_interaction + external_interaction + epsilon**2*perturbation\n",
    "H2 = external_interaction\n",
    "H3 = external_interaction + epsilon*perturbation\n",
    "H4 = self_interaction + epsilon*external_interaction + epsilon**2*perturbation"
   ]
  },
  {
   "cell_type": "markdown",
   "metadata": {},
   "source": [
    "#### Examining with no pertubation"
   ]
  },
  {
   "cell_type": "code",
   "execution_count": null,
   "metadata": {},
   "outputs": [],
   "source": [
    "\n",
    "xs,ys = energy_trace_compare_p(H2,1,proc=processors)\n"
   ]
  },
  {
   "cell_type": "code",
   "execution_count": null,
   "metadata": {},
   "outputs": [],
   "source": [
    "plt.clf()\n",
    "plt.scatter(xs,ys,s=5)\n",
    "plt.xlabel(\"Energy Difference\")\n",
    "plt.ylabel(\"Trace Distance\")\n",
    "plt.savefig(f\"only_ext_{n}\")\n",
    "plt.show()\n"
   ]
  },
  {
   "cell_type": "markdown",
   "metadata": {},
   "source": [
    "#### Examining with pertubation"
   ]
  },
  {
   "cell_type": "code",
   "execution_count": null,
   "metadata": {},
   "outputs": [],
   "source": [
    "\n",
    "xs,ys = energy_trace_compare_p(H3,1,proc=processors)\n"
   ]
  },
  {
   "cell_type": "code",
   "execution_count": null,
   "metadata": {},
   "outputs": [],
   "source": [
    "plt.clf()\n",
    "plt.scatter(xs,ys,s=1)\n",
    "plt.xlabel(\"Energy Difference\")\n",
    "plt.ylabel(\"Trace Distance\")\n",
    "plt.savefig(\"ext_per_8\")\n",
    "plt.show()"
   ]
  },
  {
   "cell_type": "markdown",
   "metadata": {},
   "source": [
    "#### Examining with pertubation and interaction terms\n"
   ]
  },
  {
   "cell_type": "code",
   "execution_count": null,
   "metadata": {},
   "outputs": [],
   "source": [
    "xs,ys = energy_trace_compare_p(H1,1,proc=processors)"
   ]
  },
  {
   "cell_type": "code",
   "execution_count": null,
   "metadata": {},
   "outputs": [],
   "source": [
    "plt.clf()\n",
    "plt.scatter(xs,ys,s=1)\n",
    "plt.xlabel(\"Energy Difference\")\n",
    "plt.ylabel(\"Trace Distance\")\n",
    "plt.savefig(\"ext_inter_8\")\n",
    "plt.show()"
   ]
  },
  {
   "cell_type": "markdown",
   "metadata": {},
   "source": [
    "#### Examining mainly interaction with external field and random pertubation"
   ]
  },
  {
   "cell_type": "code",
   "execution_count": null,
   "metadata": {},
   "outputs": [],
   "source": [
    "xs,ys = energy_trace_compare_p(H4,1,proc=processors)"
   ]
  },
  {
   "cell_type": "code",
   "execution_count": null,
   "metadata": {},
   "outputs": [],
   "source": [
    "plt.clf()\n",
    "plt.scatter(xs,ys,s=1)\n",
    "plt.xlabel(\"Energy Difference\")\n",
    "plt.ylabel(\"Trace Distance\")\n",
    "plt.savefig(\"inter_ext_8\")\n",
    "plt.show()"
   ]
  },
  {
   "cell_type": "markdown",
   "metadata": {},
   "source": [
    "## Examining  tracing onto different number of spins  (1,2,3 spins)"
   ]
  },
  {
   "cell_type": "code",
   "execution_count": null,
   "metadata": {},
   "outputs": [],
   "source": [
    "xs, ys = energy_trace_compare_p(H1,1,proc=processors)"
   ]
  },
  {
   "cell_type": "code",
   "execution_count": null,
   "metadata": {},
   "outputs": [],
   "source": [
    "plt.clf()\n",
    "plt.scatter(xs,ys,s=1, c=\"b\")\n",
    "plt.xlabel(\"Energy Difference\")\n",
    "plt.ylabel(\"Trace Distance\")\n",
    "plt.savefig(\"1subEvTr8S\")\n",
    "plt.show()"
   ]
  },
  {
   "cell_type": "code",
   "execution_count": null,
   "metadata": {},
   "outputs": [],
   "source": [
    "xs, ys = energy_trace_compare_p(H1,2,proc=processors)"
   ]
  },
  {
   "cell_type": "code",
   "execution_count": null,
   "metadata": {},
   "outputs": [],
   "source": [
    "plt.clf()\n",
    "plt.scatter(xs,ys,s=1, c='r')\n",
    "plt.xlabel(\"Energy Difference\")\n",
    "plt.ylabel(\"Trace Distance\")\n",
    "plt.savefig(\"2subEvTr8S\")\n",
    "plt.show()"
   ]
  },
  {
   "cell_type": "code",
   "execution_count": null,
   "metadata": {},
   "outputs": [],
   "source": [
    "xs, ys = energy_trace_compare_p(H1,3,proc=processors)"
   ]
  },
  {
   "cell_type": "code",
   "execution_count": null,
   "metadata": {},
   "outputs": [],
   "source": [
    "plt.clf()\n",
    "plt.scatter(xs,ys,s=1, c='y')\n",
    "plt.xlabel(\"Energy Difference\")\n",
    "plt.ylabel(\"Trace Distance\")\n",
    "plt.savefig(\"3subEvTr8S\")\n",
    "plt.show()"
   ]
  },
  {
   "cell_type": "markdown",
   "metadata": {},
   "source": [
    "## Altering Size of Sytem"
   ]
  },
  {
   "cell_type": "code",
   "execution_count": null,
   "metadata": {},
   "outputs": [],
   "source": [
    "n = 8 # <-- change this number to generate different plots\n",
    "processors = 4\n",
    "state1 = tensor([basis(2,0)]*n)\n",
    "\n",
    "alpha1 = Heisenberg1dRingGen(1,1,1,n)\n",
    "alpha0 = lambda n,m,i,j: 0\n",
    "beta1 = lambda n,i : [0,0,1][i]\n",
    "beta0 = lambda n,i :0\n",
    "\n",
    "self_interaction = hamiltonian(alpha1,beta0,n)\n",
    "self_interaction = self_interaction/self_interaction.norm()\n",
    "external_interaction = hamiltonian(alpha0,beta1,n)\n",
    "external_interaction = external_interaction/external_interaction.norm()\n",
    "\n",
    "\n",
    "perturbation: Qobj = random_herm_oper(self_interaction.dims,n)\n",
    "perturbation = perturbation/perturbation.norm()\n",
    "epsilon = 0.1\n",
    "\n",
    "H1 = epsilon*self_interaction + external_interaction + epsilon**2*perturbation"
   ]
  },
  {
   "cell_type": "code",
   "execution_count": null,
   "metadata": {},
   "outputs": [],
   "source": [
    "xs, ys = energy_trace_compare_p(H1,1,proc=processors)"
   ]
  },
  {
   "cell_type": "code",
   "execution_count": null,
   "metadata": {},
   "outputs": [],
   "source": [
    "plt.clf()\n",
    "plt.scatter(xs,ys,s=1, c='y')\n",
    "plt.xlabel(\"Energy Difference\")\n",
    "plt.ylabel(\"Trace Distance\")\n",
    "plt.savefig(\"sys10TrVsE\")\n",
    "plt.show()"
   ]
  },
  {
   "cell_type": "markdown",
   "metadata": {},
   "source": [
    "### Examining Eigenstates grouping with and without pertubation"
   ]
  },
  {
   "cell_type": "code",
   "execution_count": null,
   "metadata": {},
   "outputs": [],
   "source": [
    "n = 10\n",
    "processsors =4\n",
    "state1 = tensor([basis(2,0)]*n)\n",
    "\n",
    "alpha1 = Heisenberg1dRingGen(1,1,1,n)\n",
    "alpha0 = lambda n,m,i,j: 0\n",
    "beta1 = lambda n,i : [0,0,1][i]\n",
    "beta0 = lambda n,i :0\n",
    "\n",
    "self_interaction = hamiltonian(alpha1,beta0,n)\n",
    "self_interaction = self_interaction/self_interaction.norm()\n",
    "external_interaction = hamiltonian(alpha0,beta1,n)\n",
    "external_interaction = external_interaction/external_interaction.norm()\n",
    "\n",
    "\n",
    "perturbation: Qobj = random_herm_oper(self_interaction.dims,n)\n",
    "perturbation = perturbation/perturbation.norm()\n",
    "epsilon = 0.1\n",
    "\n",
    "H1 = epsilon*self_interaction + external_interaction + epsilon**2*perturbation\n",
    "H2 = external_interaction\n",
    "H3 = external_interaction + epsilon*perturbation\n",
    "H4 = self_interaction + epsilon*external_interaction + epsilon**2*perturbation"
   ]
  },
  {
   "cell_type": "code",
   "execution_count": null,
   "metadata": {},
   "outputs": [],
   "source": [
    "#without\n",
    "plt.clf()\n",
    "plt.hist(H2.eigenenergies(),bins=100)\n",
    "plt.xlabel(\"Energy\")\n",
    "plt.ylabel(\"#states\")\n",
    "plt.savefig(\"Unperturbed energies \")\n",
    "plt.show()"
   ]
  },
  {
   "cell_type": "code",
   "execution_count": null,
   "metadata": {},
   "outputs": [],
   "source": [
    "#with\n",
    "plt.clf()\n",
    "plt.hist(H3.eigenenergies(),bins=100)\n",
    "plt.xlabel(\"Energy\")\n",
    "plt.ylabel(\"#states\")\n",
    "plt.savefig(\"Perturbed energies \")\n",
    "plt.show()"
   ]
  },
  {
   "cell_type": "markdown",
   "metadata": {},
   "source": [
    "## Plotting analytical vs experiemntal average trace distacne against n"
   ]
  },
  {
   "cell_type": "code",
   "execution_count": null,
   "metadata": {},
   "outputs": [],
   "source": [
    "#Exact value of distance without bounding\n",
    "\n",
    "def bound_func(nb,ns,n0):\n",
    "    n = nb+ns\n",
    "    d = comb(n,n0)\n",
    "    beta = 2/(d**2-1)\n",
    "    alpha = beta * -1/(d)\n",
    "    lhsum = sum(comb(nb,n0-x)**2*comb(ns,x) for x in range(min(ns,n0)+1))\n",
    "    rhsum  = sum(comb(nb,n0-x)*comb(ns,x)**2 for x in range(min(ns,n0)+1))\n",
    "    return sqrt((2**ns)/4)*sqrt(alpha*lhsum+ beta*rhsum) \n",
    "\n",
    "\n",
    "def approx_bound(nb,ns,n0):\n",
    "    n = nb+ns\n",
    "    d = comb(n,n0)\n",
    "    ds = 2**ns\n",
    "    return sqrt((d*ds**2)/(2*(d**2-1)))\n",
    "    "
   ]
  },
  {
   "cell_type": "code",
   "execution_count": null,
   "metadata": {},
   "outputs": [],
   "source": [
    "bounds =[[-0.05,0.05,2],[-0.025,0,2],[-0.01,0.01,3],[-0.01,0,3],[-0.0025,0.0025,4],[-0.002,0,4],[-0.0005,0.0005,5],[-0.0004,0,5],[-0.0001,0.0001,6]]\n",
    "\n",
    "experimental = []\n",
    "\n",
    "analytical =[]\n",
    "\n",
    "approx =[]\n",
    "\n",
    "for ind, bound in enumerate(bounds[:6]):\n",
    "    n = 4+ind\n",
    "    alpha0 = lambda n,m,i,j: 0\n",
    "    beta1 = lambda n,i : [0,0,1][i]\n",
    "    external_interaction = hamiltonian(alpha0,beta1,n)\n",
    "    external_interaction = external_interaction/external_interaction.norm()\n",
    "    perturbation: Qobj = random_herm_oper(external_interaction.dims,n)\n",
    "    perturbation = perturbation/perturbation.norm()\n",
    "    epsilon = 0.1\n",
    "    H3 = external_interaction + epsilon*perturbation\n",
    "    energies,states = H3.eigenstates()\n",
    "    energy_state = zip(energies,states)\n",
    "    energy_state = list(energy_state)\n",
    "    zero_energy_states = list(filter(lambda val: bound[0]<val[0]<bound[1] ,energy_state))\n",
    "    print(len(zero_energy_states))\n",
    "    difference = 0\n",
    "    count = 0\n",
    "\n",
    "\n",
    "    for state1,state2 in tqdm(product(zero_energy_states,zero_energy_states)):\n",
    "        if state1!=state2:\n",
    "            difference+=tracedist(state1[1].ptrace(0),state2[1].ptrace(0))\n",
    "            count+=1\n",
    "    \n",
    "    experimental.append(difference/count)\n",
    "    analytical.append(bound_func(n-1,1,bound[2]))\n",
    "    approx.append(approx_bound(n-1,1,bound[2]))"
   ]
  },
  {
   "cell_type": "code",
   "execution_count": null,
   "metadata": {},
   "outputs": [],
   "source": [
    "plt.clf()  \n",
    "plt.plot(range(4,10),experimental, label = \"Numerical Simulation\")\n",
    "plt.plot(range(4,10),analytical , label = \"Analytical\")\n",
    "plt.plot(range(4,10),approx, label = \"Analytical Approximation \")\n",
    "plt.legend()\n",
    "plt.xlabel(\"Spin number\")\n",
    "plt.ylabel(r\"$\\langle TrDist(\\Delta_1,\\Delta_2) \\rangle$\")\n",
    "plt.savefig(\"TrVsSpinRedUnitGroup\")\n",
    "plt.show()\n",
    "    \n",
    "    "
   ]
  },
  {
   "cell_type": "markdown",
   "metadata": {},
   "source": [
    "## Plotting Energy level diagram"
   ]
  },
  {
   "cell_type": "code",
   "execution_count": null,
   "metadata": {},
   "outputs": [],
   "source": [
    "n = 8\n",
    "state1 = tensor([basis(2,0)]*n)\n",
    "\n",
    "alpha1 = Heisenberg1dRingGen(1,1,1,n)\n",
    "alpha0 = lambda n,m,i,j: 0\n",
    "beta1 = lambda n,i : [0,0,1][i]\n",
    "beta0 = lambda n,i :0\n",
    "\n",
    "self_interaction = hamiltonian(alpha1,beta0,n)\n",
    "self_interaction = self_interaction/self_interaction.norm()\n",
    "external_interaction = hamiltonian(alpha0,beta1,n)\n",
    "H2u = external_interaction\n",
    "external_interaction = external_interaction/external_interaction.norm()\n",
    "\n",
    "\n",
    "perturbation: Qobj = random_herm_oper(self_interaction.dims,n)\n",
    "perturbation = perturbation/perturbation.norm()\n",
    "I_epsilon = 0.1\n",
    "P_epsilon = 0.3\n",
    "\n",
    "H1 = I_epsilon*self_interaction + external_interaction + P_epsilon**2*perturbation\n",
    "H2 = external_interaction\n",
    "H3 = external_interaction + P_epsilon*perturbation\n",
    "H4 = external_interaction + I_epsilon*self_interaction\n",
    "\n"
   ]
  },
  {
   "cell_type": "code",
   "execution_count": null,
   "metadata": {},
   "outputs": [],
   "source": [
    "energy_band_plot(H2, \"\", \"EplotE\")"
   ]
  },
  {
   "cell_type": "code",
   "execution_count": null,
   "metadata": {},
   "outputs": [],
   "source": [
    "energy_band_plot(H3, \"\",  \"EplotEP\")"
   ]
  },
  {
   "cell_type": "code",
   "execution_count": null,
   "metadata": {},
   "outputs": [],
   "source": [
    "energy_band_plot(H4, \"\", \"EplotI\")"
   ]
  },
  {
   "cell_type": "code",
   "execution_count": null,
   "metadata": {},
   "outputs": [],
   "source": [
    "energy_band_plot(H1, \"\", \"EplotIP\")"
   ]
  },
  {
   "cell_type": "code",
   "execution_count": null,
   "metadata": {},
   "outputs": [],
   "source": []
  }
 ],
 "metadata": {
  "kernelspec": {
   "display_name": "Python 3",
   "language": "python",
   "name": "python3"
  },
  "language_info": {
   "codemirror_mode": {
    "name": "ipython",
    "version": 3
   },
   "file_extension": ".py",
   "mimetype": "text/x-python",
   "name": "python",
   "nbconvert_exporter": "python",
   "pygments_lexer": "ipython3",
   "version": "3.8.2"
  }
 },
 "nbformat": 4,
 "nbformat_minor": 4
}
