{
 "cells": [
  {
   "cell_type": "code",
   "execution_count": 1,
   "metadata": {},
   "outputs": [],
   "source": [
    "import ray\n",
    "from time import time \n",
    "from matplotlib import pyplot as plt\n",
    "from numpy.linalg import norm\n",
    "from Quantum_functions import *\n",
    "import numpy as np\n",
    "from QuantumLib import equilibration_analyser_p\n",
    "from numpy import allclose\n"
   ]
  },
  {
   "cell_type": "code",
   "execution_count": 2,
   "metadata": {},
   "outputs": [
    {
     "name": "stderr",
     "output_type": "stream",
     "text": [
      "2020-04-03 16:58:01,628\tWARNING services.py:586 -- setpgrp failed, processes may not be cleaned up properly: [Errno 1] Operation not permitted.\n",
      "2020-04-03 16:58:01,653\tINFO resource_spec.py:212 -- Starting Ray with 8.2 GiB memory available for workers and up to 4.12 GiB for objects. You can adjust these settings with ray.init(memory=<bytes>, object_store_memory=<bytes>).\n",
      "2020-04-03 16:58:01,961\tINFO services.py:1078 -- View the Ray dashboard at \u001b[1m\u001b[32mlocalhost:8265\u001b[39m\u001b[22m\n"
     ]
    },
    {
     "data": {
      "text/plain": [
       "{'node_ip_address': '192.168.1.97',\n",
       " 'redis_address': '192.168.1.97:48312',\n",
       " 'object_store_address': '/tmp/ray/session_2020-04-03_16-58-01_627771_19362/sockets/plasma_store',\n",
       " 'raylet_socket_name': '/tmp/ray/session_2020-04-03_16-58-01_627771_19362/sockets/raylet',\n",
       " 'webui_url': 'localhost:8265',\n",
       " 'session_dir': '/tmp/ray/session_2020-04-03_16-58-01_627771_19362'}"
      ]
     },
     "execution_count": 2,
     "metadata": {},
     "output_type": "execute_result"
    }
   ],
   "source": [
    "gb = 1024*1024*1024\n",
    "\n",
    "from qutip import *\n",
    "# Start Ray.\n",
    "ray.init()\n",
    "#ray.init(memory =14*gb, object_store_memory = 12*gb)"
   ]
  },
  {
   "cell_type": "code",
   "execution_count": null,
   "metadata": {},
   "outputs": [],
   "source": [
    "n = 4\n",
    "processors = 4\n",
    "state1 = tensor([basis(2,0)]*n)\n",
    "\n",
    "alpha1 = Heisenberg1dRingGen(1,1,1,n)\n",
    "alpha0 = lambda n,m,i,j: 0\n",
    "beta1 = lambda n,i : [0,0,1][i]\n",
    "beta0 = lambda n,i :0\n",
    "\n",
    "self_interaction = hamiltonian(alpha1,beta0,n)\n",
    "self_interaction = self_interaction/self_interaction.norm()\n",
    "external_interaction = hamiltonian(alpha0,beta1,n)\n",
    "external_interaction = external_interaction/external_interaction.norm()\n",
    "\n",
    "\n",
    "perturbation: Qobj = make_hermitian(rand_unitary(2**n, dims = self_interaction.dims))\n",
    "perturbation = perturbation/perturbation.norm()\n",
    "epsilon = 0.3\n",
    "\n",
    "H1 = epsilon*self_interaction + external_interaction + epsilon**2*perturbation\n",
    "H2 = external_interaction\n",
    "H3 = external_interaction + epsilon*perturbation"
   ]
  },
  {
   "cell_type": "markdown",
   "metadata": {},
   "source": [
    "### Testing Trace vs Energy Compare"
   ]
  },
  {
   "cell_type": "code",
   "execution_count": null,
   "metadata": {},
   "outputs": [],
   "source": [
    "start = time()\n",
    "xs,ys = energy_trace_comp_2d(H1,1,1)\n",
    "end = time()\n",
    "\n",
    "single_t = end-start\n",
    "\n",
    "plt.scatter(xs,ys,s=1)\n",
    "plt.show()\n",
    "print(f\"Finished executing completed in {end-start}s\")"
   ]
  },
  {
   "cell_type": "code",
   "execution_count": null,
   "metadata": {},
   "outputs": [],
   "source": [
    "start = time()\n",
    "xs,ys = energy_trace_compare_p(H1,1,1,proc =processors)\n",
    "end = time()\n",
    "\n",
    "mulit_t  = end-start\n",
    "print(len(xs))\n",
    "\n",
    "plt.scatter(xs,ys,s=1)\n",
    "plt.show()\n",
    "\n",
    "print(f\"Finished executing completed in {end-start}s\")\n"
   ]
  },
  {
   "cell_type": "code",
   "execution_count": null,
   "metadata": {},
   "outputs": [],
   "source": [
    "print(f\"System obtains a speedup of {single_t/mulit_t} using {processors} processors\" )"
   ]
  },
  {
   "cell_type": "markdown",
   "metadata": {},
   "source": [
    "### Testing simulation compare"
   ]
  },
  {
   "cell_type": "code",
   "execution_count": 10,
   "metadata": {},
   "outputs": [],
   "source": [
    "n=12\n",
    "state1 = tensor([basis(2,0)]*n)\n",
    "processors = 4\n",
    "beta0 = lambda n,m: 0\n",
    "alpha1 = Heisenberg1dRingGen(-1,1,1,n)\n",
    "\n",
    "H1 = hamiltonian(alpha1,beta0, n)\n",
    "H1=H1/H1.norm()\n",
    "\n",
    "assert(H1.isherm)"
   ]
  },
  {
   "cell_type": "code",
   "execution_count": null,
   "metadata": {},
   "outputs": [],
   "source": [
    "start = time()\n",
    "equilibration_analyser(H1,state1,1e5,200)\n",
    "end=time()\n",
    "print(f\"Finished executing completed in {end-start}s\")\n",
    "sim_s = end-start"
   ]
  },
  {
   "cell_type": "code",
   "execution_count": null,
   "metadata": {},
   "outputs": [
    {
     "name": "stdout",
     "output_type": "stream",
     "text": [
      "COnstruction finished\n",
      "219.4573905467987\n",
      "Ray starting\n",
      "786.432210445404\n",
      "Basics\n",
      "0.3539917469024658\n"
     ]
    }
   ],
   "source": [
    "\n",
    "start = time()\n",
    "n=13\n",
    "state1 = tensor([basis(2,0)]*n)\n",
    "processors = 4\n",
    "beta0 = lambda n,m: 0\n",
    "alpha1 = Heisenberg1dRingGen(-1,1,1,n)\n",
    "\n",
    "H1 = hamiltonian(alpha1,beta0, n)\n",
    "H1=H1/H1.norm()\n",
    "\n",
    "print(\"COnstruction finished\")\n",
    "print(time()-start)\n",
    "\n",
    "assert(H1.isherm)\n",
    "energys,states = H1.eigenstates()\n",
    "\n",
    "print(\"Ray starting\")\n",
    "print(time()-start)\n",
    "equilibration_analyser_p(energys,states,state1,0,1e5,200, \"TestNew\" ,_proc=4)\n",
    "end=time()\n",
    "print(f\"Finished executing completed in {end-start}s\")\n",
    "sim_m = end-start"
   ]
  },
  {
   "cell_type": "code",
   "execution_count": 24,
   "metadata": {},
   "outputs": [],
   "source": [
    "print(f\"System obtains a speedup of {sim_s/sim_m} using {processors} processors\" )"
   ]
  },
  {
   "cell_type": "code",
   "execution_count": null,
   "metadata": {},
   "outputs": [],
   "source": [
    "tresults =[]\n",
    "for n in range(5,12):\n",
    "    state1 = tensor([basis(2,0)]*n)\n",
    "    processors = 4\n",
    "    beta0 = lambda i,j: 0\n",
    "    alpha1 = Heisenberg1dRingGen(-1,1,1,n)\n",
    "    H1 = hamiltonian(alpha1,beta0, n)\n",
    "    H1=H1/H1.norm()\n",
    "    assert(H1.isherm)\n",
    "    \n",
    "    energys,states = H1.eigenstates()\n",
    "    start =time()\n",
    "    equilibration_analyser_p(energys,states,state1,0,1e5,200, \"TestNew\" ,_proc=4)\n",
    "    end=time()\n",
    "    tresults.append(end-start)\n",
    "    print(f\"DONE {n}\")"
   ]
  },
  {
   "cell_type": "code",
   "execution_count": 7,
   "metadata": {},
   "outputs": [
    {
     "name": "stdout",
     "output_type": "stream",
     "text": [
      "[1.3501014709472656, 0.9183206558227539, 1.7819147109985352, 3.5457472801208496, 8.197587251663208, 23.829596996307373, 147.182142496109]\n"
     ]
    }
   ],
   "source": [
    "print(tresults)"
   ]
  },
  {
   "cell_type": "code",
   "execution_count": 9,
   "metadata": {},
   "outputs": [],
   "source": [
    "fig = plt.figure()\n",
    "ax = fig.add_subplot(1, 1, 1)\n",
    "ax.plot(range(5,12),tresults)\n",
    "plt.savefig(\"NEW\")"
   ]
  },
  {
   "cell_type": "markdown",
   "metadata": {},
   "source": [
    "### Testing Equilibration density operator !"
   ]
  },
  {
   "cell_type": "code",
   "execution_count": 8,
   "metadata": {},
   "outputs": [],
   "source": [
    "n = 2\n",
    "processors = 4\n",
    "initial_state = tensor([basis(2,0)]*n)\n",
    "state1 = tensor([basis(2,0)]*n)\n",
    "alpha1 = Heisenberg1dRingGen(1,1,1,n)\n",
    "alpha0 = lambda n,m,i,j: 0\n",
    "beta1 = lambda n,i : [0,0,1][i]\n",
    "beta0 = lambda n,i :0\n",
    "\n",
    "self_interaction = hamiltonian(alpha1,beta0,n)\n",
    "self_interaction = self_interaction/self_interaction.norm()\n",
    "external_interaction = hamiltonian(alpha0,beta1,n)\n",
    "external_interaction = external_interaction/external_interaction.norm()\n",
    "\n",
    "\n",
    "perturbation: Qobj = make_hermitian(rand_unitary(2**n, dims = self_interaction.dims))\n",
    "perturbation = perturbation/perturbation.norm()\n",
    "epsilon = 0.3\n",
    "\n",
    "H1 = epsilon*self_interaction + external_interaction + epsilon**2*perturbation\n",
    "H2 = external_interaction\n",
    "H3 = external_interaction + epsilon*perturbation\n",
    "H4 = external_interaction + epsilon*self_interaction"
   ]
  },
  {
   "cell_type": "code",
   "execution_count": null,
   "metadata": {},
   "outputs": [],
   "source": []
  }
 ],
 "metadata": {
  "kernelspec": {
   "display_name": "Python 3",
   "language": "python",
   "name": "python3"
  },
  "language_info": {
   "codemirror_mode": {
    "name": "ipython",
    "version": 3
   },
   "file_extension": ".py",
   "mimetype": "text/x-python",
   "name": "python",
   "nbconvert_exporter": "python",
   "pygments_lexer": "ipython3",
   "version": "3.6.9"
  }
 },
 "nbformat": 4,
 "nbformat_minor": 4
}
