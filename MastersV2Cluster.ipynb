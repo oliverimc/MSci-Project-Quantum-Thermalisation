{
 "cells": [
  {
   "cell_type": "code",
   "execution_count": 1,
   "metadata": {},
   "outputs": [
    {
     "ename": "ModuleNotFoundError",
     "evalue": "No module named 'ray'",
     "output_type": "error",
     "traceback": [
      "\u001b[1;31m---------------------------------------------------------------------------\u001b[0m",
      "\u001b[1;31mModuleNotFoundError\u001b[0m                       Traceback (most recent call last)",
      "\u001b[1;32m<ipython-input-1-a940b655b5e3>\u001b[0m in \u001b[0;36m<module>\u001b[1;34m\u001b[0m\n\u001b[1;32m----> 1\u001b[1;33m \u001b[1;32mimport\u001b[0m \u001b[0mray\u001b[0m\u001b[1;33m\u001b[0m\u001b[1;33m\u001b[0m\u001b[0m\n\u001b[0m\u001b[0;32m      2\u001b[0m \u001b[1;32mfrom\u001b[0m \u001b[0mtime\u001b[0m \u001b[1;32mimport\u001b[0m \u001b[0mtime\u001b[0m\u001b[1;33m\u001b[0m\u001b[1;33m\u001b[0m\u001b[0m\n\u001b[0;32m      3\u001b[0m \u001b[1;32mfrom\u001b[0m \u001b[0mmatplotlib\u001b[0m \u001b[1;32mimport\u001b[0m \u001b[0mpyplot\u001b[0m \u001b[1;32mas\u001b[0m \u001b[0mplt\u001b[0m\u001b[1;33m\u001b[0m\u001b[1;33m\u001b[0m\u001b[0m\n\u001b[0;32m      4\u001b[0m \u001b[1;32mfrom\u001b[0m \u001b[0mnumpy\u001b[0m\u001b[1;33m.\u001b[0m\u001b[0mlinalg\u001b[0m \u001b[1;32mimport\u001b[0m \u001b[0mnorm\u001b[0m\u001b[1;33m\u001b[0m\u001b[1;33m\u001b[0m\u001b[0m\n\u001b[0;32m      5\u001b[0m \u001b[1;32mfrom\u001b[0m \u001b[0mQuantum_functions\u001b[0m \u001b[1;32mimport\u001b[0m \u001b[1;33m*\u001b[0m\u001b[1;33m\u001b[0m\u001b[1;33m\u001b[0m\u001b[0m\n",
      "\u001b[1;31mModuleNotFoundError\u001b[0m: No module named 'ray'"
     ]
    }
   ],
   "source": [
    "import ray\n",
    "from time import time \n",
    "from matplotlib import pyplot as plt\n",
    "from numpy.linalg import norm\n",
    "from Quantum_functions import *\n",
    "import numpy as np\n",
    "from QuantumPFunctions import *"
   ]
  },
  {
   "cell_type": "code",
   "execution_count": 2,
   "metadata": {},
   "outputs": [
    {
     "name": "stderr",
     "output_type": "stream",
     "text": [
      "2020-04-01 00:57:57,487\tWARNING services.py:586 -- setpgrp failed, processes may not be cleaned up properly: [Errno 1] Operation not permitted.\n",
      "2020-04-01 00:57:57,488\tINFO resource_spec.py:212 -- Starting Ray with 7.52 GiB memory available for workers and up to 3.76 GiB for objects. You can adjust these settings with ray.init(memory=<bytes>, object_store_memory=<bytes>).\n",
      "2020-04-01 00:57:57,827\tINFO services.py:1078 -- View the Ray dashboard at \u001b[1m\u001b[32mlocalhost:8265\u001b[39m\u001b[22m\n"
     ]
    },
    {
     "data": {
      "text/plain": [
       "{'node_ip_address': '192.168.1.97',\n",
       " 'redis_address': '192.168.1.97:28212',\n",
       " 'object_store_address': '/tmp/ray/session_2020-04-01_00-57-57_486876_8232/sockets/plasma_store',\n",
       " 'raylet_socket_name': '/tmp/ray/session_2020-04-01_00-57-57_486876_8232/sockets/raylet',\n",
       " 'webui_url': 'localhost:8265',\n",
       " 'session_dir': '/tmp/ray/session_2020-04-01_00-57-57_486876_8232'}"
      ]
     },
     "execution_count": 2,
     "metadata": {},
     "output_type": "execute_result"
    }
   ],
   "source": [
    "gb = 1024*1024*1024\n",
    "\n",
    "from qutip import *\n",
    "# Start Ray.\n",
    "ray.init()\n",
    "#ray.init(memory =14*gb, object_store_memory = 12*gb)"
   ]
  },
  {
   "cell_type": "code",
   "execution_count": 3,
   "metadata": {},
   "outputs": [],
   "source": [
    "n = 8\n",
    "processors = 4\n",
    "state1 = tensor([basis(2,0)]*n)\n",
    "\n",
    "alpha1 = Heisenberg1dRingGen(1,1,1,n)\n",
    "alpha0 = lambda n,m,i,j: 0\n",
    "beta1 = lambda n,i : [0,0,1][i]\n",
    "beta0 = lambda n,i :0\n",
    "\n",
    "self_interaction = hamiltonian(alpha1,beta0,n)\n",
    "self_interaction = self_interaction/self_interaction.norm()\n",
    "external_interaction = hamiltonian(alpha0,beta1,n)\n",
    "external_interaction = external_interaction/external_interaction.norm()\n",
    "\n",
    "\n",
    "perturbation: Qobj = make_hermitian(rand_unitary(2**n, dims = self_interaction.dims))\n",
    "perturbation = perturbation/perturbation.norm()\n",
    "epsilon = 0.3\n",
    "\n",
    "H1 = epsilon*self_interaction + external_interaction + epsilon**2*perturbation\n",
    "H2 = external_interaction\n",
    "H3 = external_interaction + epsilon*perturbation"
   ]
  },
  {
   "cell_type": "markdown",
   "metadata": {},
   "source": [
    "### Testing Trace vs Energy Compare"
   ]
  },
  {
   "cell_type": "code",
   "execution_count": null,
   "metadata": {},
   "outputs": [],
   "source": [
    "start = time()\n",
    "xs,ys = energy_trace_comp_2d(H1,1,1)\n",
    "end = time()\n",
    "\n",
    "single_t = end-start\n",
    "\n",
    "plt.scatter(xs,ys,s=1)\n",
    "plt.show()\n",
    "print(f\"Finished executing completed in {end-start}s\")"
   ]
  },
  {
   "cell_type": "code",
   "execution_count": null,
   "metadata": {},
   "outputs": [],
   "source": [
    "start = time()\n",
    "xs,ys = energy_trace_compare_p(H1,1,1,proc =processors)\n",
    "end = time()\n",
    "\n",
    "mulit_t  = end-start\n",
    "print(len(xs))\n",
    "\n",
    "plt.scatter(xs,ys,s=1)\n",
    "plt.show()\n",
    "\n",
    "print(f\"Finished executing completed in {end-start}s\")\n"
   ]
  },
  {
   "cell_type": "code",
   "execution_count": null,
   "metadata": {},
   "outputs": [],
   "source": [
    "print(f\"System obtains a speedup of {single_t/mulit_t} using {processors} processors\" )"
   ]
  },
  {
   "cell_type": "markdown",
   "metadata": {},
   "source": [
    "### Testing simulation compare"
   ]
  },
  {
   "cell_type": "code",
   "execution_count": null,
   "metadata": {},
   "outputs": [],
   "source": [
    "n=6\n",
    "state1 = tensor([basis(2,0)]*n)\n",
    "processors = 4\n",
    "beta0 = lambda n,m: 0\n",
    "alpha1 = Heisenberg1dRingGen(-1,1,1,n)\n",
    "\n",
    "H1 = hamiltonian(alpha1,beta0, n)\n",
    "H1=H1/H1.norm()\n",
    "\n",
    "assert(H1.isherm)"
   ]
  },
  {
   "cell_type": "code",
   "execution_count": null,
   "metadata": {},
   "outputs": [],
   "source": [
    "start = time()\n",
    "equilibration_analyser(H1,state1,1e5,200)\n",
    "end=time()\n",
    "print(f\"Finished executing completed in {end-start}s\")\n",
    "sim_s = end-start"
   ]
  },
  {
   "cell_type": "code",
   "execution_count": null,
   "metadata": {},
   "outputs": [],
   "source": [
    "start = time()\n",
    "energys,states = H1.eigenstates()\n",
    "print(\"Found states\")\n",
    "equilibration_analyser_p(energys,states,state1,0,1e5,200,Proc=4)\n",
    "end=time()\n",
    "print(f\"Finished executing completed in {end-start}s\")\n",
    "sim_m = end-start"
   ]
  },
  {
   "cell_type": "code",
   "execution_count": null,
   "metadata": {},
   "outputs": [],
   "source": [
    "print(f\"System obtains a speedup of {sim_s/sim_m} using {processors} processors\" )"
   ]
  },
  {
   "cell_type": "code",
   "execution_count": null,
   "metadata": {},
   "outputs": [],
   "source": [
    "energys,states = H1.eigenstates()"
   ]
  },
  {
   "cell_type": "code",
   "execution_count": null,
   "metadata": {},
   "outputs": [],
   "source": [
    "print(states[0])\n",
    "print(ket2dm(states[0]))\n",
    "\n"
   ]
  },
  {
   "cell_type": "code",
   "execution_count": 3,
   "metadata": {},
   "outputs": [],
   "source": [
    "n = 3\n",
    "\n",
    "initial_state = tensor([basis(2,0)]*n)\n",
    "\n",
    "alpha1 = Heisenberg1dRingGen(1,1,1,n)\n",
    "alpha0 = lambda n,m,i,j: 0\n",
    "beta1 = lambda n,i : [0,0,1][i]\n",
    "beta0 = lambda n,i :0\n",
    "\n",
    "self_interaction = hamiltonian(alpha1,beta0,n)\n",
    "self_interaction = self_interaction/self_interaction.norm()\n",
    "external_interaction = hamiltonian(alpha0,beta1,n)\n",
    "external_interaction = external_interaction/external_interaction.norm()\n",
    "\n",
    "\n",
    "perturbation: Qobj = make_hermitian(rand_unitary(2**n, dims = self_interaction.dims))\n",
    "perturbation = perturbation/perturbation.norm()\n",
    "epsilon = 0.3\n",
    "\n",
    "H1 = epsilon*self_interaction + external_interaction + epsilon**2*perturbation\n",
    "H2 = external_interaction\n",
    "H3 = external_interaction + epsilon*perturbation\n",
    "H4 = external_interaction + epsilon*self_interaction"
   ]
  },
  {
   "cell_type": "code",
   "execution_count": 4,
   "metadata": {},
   "outputs": [],
   "source": [
    "energys,states= H3.eigenstates()"
   ]
  },
  {
   "cell_type": "code",
   "execution_count": 5,
   "metadata": {},
   "outputs": [],
   "source": [
    "coef = [initial_state.overlap(estate) for estate in states]"
   ]
  },
  {
   "cell_type": "code",
   "execution_count": 9,
   "metadata": {},
   "outputs": [
    {
     "name": "stdout",
     "output_type": "stream",
     "text": [
      "3\n"
     ]
    }
   ],
   "source": [
    "\n",
    "eq_state = get_equilibrated_dens_op_P(energys,states,coef,proc=4)\n",
    "eq_old = get_equilibrated_dens_op(H3,initial_state)\n",
    "\n"
   ]
  },
  {
   "cell_type": "code",
   "execution_count": 7,
   "metadata": {},
   "outputs": [
    {
     "name": "stdout",
     "output_type": "stream",
     "text": [
      "Quantum object: dims = [[2, 2, 2], [2, 2, 2]], shape = (8, 8), type = oper, isherm = True\n",
      "Qobj data =\n",
      "[[ 9.61663713e-01+0.00000000e+00j -3.45153685e-02-1.75585836e-02j\n",
      "   4.77048811e-02-2.78020414e-02j -2.96754293e-02-1.35932568e-02j\n",
      "  -4.32018816e-02-6.50903880e-02j -2.55537658e-02-6.15025540e-02j\n",
      "   1.61740709e-02+2.32313443e-02j -3.05878068e-02-1.57136435e-02j]\n",
      " [-3.45153685e-02+1.75585836e-02j  3.79868027e-03+0.00000000e+00j\n",
      "  -1.87301392e-03+1.36021062e-03j  1.22426940e-03-5.95786851e-05j\n",
      "   3.47859601e-03+2.57813355e-03j  2.22228803e-03+1.64361671e-03j\n",
      "  -8.28634351e-04-4.48842410e-04j  1.35693446e-03+1.22599098e-06j]\n",
      " [ 4.77048811e-02+2.78020414e-02j -1.87301392e-03-1.36021062e-03j\n",
      "   6.38764797e-03+0.00000000e+00j -1.12647583e-03-1.52986154e-03j\n",
      "   4.85058682e-04-4.05019884e-03j  7.10016208e-04-3.89938017e-03j\n",
      "   2.44618259e-04+1.53114159e-03j -9.99881742e-04-1.55942653e-03j]\n",
      " [-2.96754293e-02+1.35932568e-02j  1.22426940e-03+5.95786851e-05j\n",
      "  -1.12647583e-03+1.52986154e-03j  2.65899507e-03+0.00000000e+00j\n",
      "   2.20377821e-03+1.03336599e-03j  2.04328808e-03+1.65286576e-03j\n",
      "  -1.25407121e-03-1.55303747e-04j  1.16540195e-03+4.53301068e-05j]\n",
      " [-4.32018816e-02+6.50903880e-02j  3.47859601e-03-2.57813355e-03j\n",
      "   4.85058682e-04+4.05019884e-03j  2.20377821e-03-1.03336599e-03j\n",
      "   1.21173523e-02+0.00000000e+00j  5.83925673e-03+5.72776583e-04j\n",
      "  -2.33655768e-03-3.59611127e-04j  2.56083340e-03-1.22456457e-03j]\n",
      " [-2.55537658e-02+6.15025540e-02j  2.22228803e-03-1.64361671e-03j\n",
      "   7.10016208e-04+3.89938017e-03j  2.04328808e-03-1.65286576e-03j\n",
      "   5.83925673e-03-5.72776583e-04j  6.87123576e-03+0.00000000e+00j\n",
      "  -2.59770638e-03+1.71515096e-03j  1.83941004e-03-1.49753071e-03j]\n",
      " [ 1.61740709e-02-2.32313443e-02j -8.28634351e-04+4.48842410e-04j\n",
      "   2.44618259e-04-1.53114159e-03j -1.25407121e-03+1.55303747e-04j\n",
      "  -2.33655768e-03+3.59611127e-04j -2.59770638e-03-1.71515096e-03j\n",
      "   3.82273090e-03+0.00000000e+00j -8.74627478e-04+4.95889976e-04j]\n",
      " [-3.05878068e-02+1.57136435e-02j  1.35693446e-03-1.22599098e-06j\n",
      "  -9.99881742e-04+1.55942653e-03j  1.16540195e-03-4.53301068e-05j\n",
      "   2.56083340e-03+1.22456457e-03j  1.83941004e-03+1.49753071e-03j\n",
      "  -8.74627478e-04-4.95889976e-04j  2.67964499e-03+0.00000000e+00j]]\n"
     ]
    }
   ],
   "source": [
    "print(eq_old)"
   ]
  },
  {
   "cell_type": "code",
   "execution_count": 8,
   "metadata": {},
   "outputs": [
    {
     "name": "stdout",
     "output_type": "stream",
     "text": [
      "Quantum object: dims = [[2, 2, 2], [2, 2, 2]], shape = (8, 8), type = oper, isherm = True\n",
      "Qobj data =\n",
      "[[ 4.26209819e-03+0.00000000e+00j -1.20232975e-04+3.97112849e-05j\n",
      "   1.13405107e-04-3.67952419e-05j  2.73228659e-05+1.17624730e-06j\n",
      "  -8.67272302e-05-1.95570970e-04j -6.79607285e-05-8.23870799e-05j\n",
      "  -6.50681547e-05-8.58151303e-06j -8.68053091e-05-3.30009547e-05j]\n",
      " [-1.20232975e-04-3.97112849e-05j  3.34453819e-03+0.00000000e+00j\n",
      "   9.12410154e-04+6.34768934e-04j  5.99070480e-05-4.54021648e-05j\n",
      "  -3.83047043e-04-6.03360882e-04j -1.18922328e-04-2.61091370e-05j\n",
      "   4.07073541e-05+6.84706266e-05j  1.69004611e-04+9.41880141e-06j]\n",
      " [ 1.13405107e-04+3.67952419e-05j  9.12410154e-04-6.34768934e-04j\n",
      "   2.12174267e-03+0.00000000e+00j  2.41874921e-05+3.15104181e-05j\n",
      "  -3.82979810e-04-1.83802621e-04j  2.16516846e-05+1.43336726e-04j\n",
      "  -1.53975906e-04+5.67172764e-05j  7.46344427e-05-5.41583904e-05j]\n",
      " [ 2.73228659e-05-1.17624730e-06j  5.99070480e-05+4.54021648e-05j\n",
      "   2.41874921e-05-3.15104181e-05j  4.22772298e-03+0.00000000e+00j\n",
      "   3.83551148e-06+1.53101649e-04j  2.84318081e-04+1.35701106e-05j\n",
      "   1.01834799e-04-1.68659201e-04j  1.48876470e-04+1.49467384e-04j]\n",
      " [-8.67272302e-05+1.95570970e-04j -3.83047043e-04+6.03360882e-04j\n",
      "  -3.82979810e-04+1.83802621e-04j  3.83551148e-06-1.53101649e-04j\n",
      "   1.75175562e-03+0.00000000e+00j  5.64417789e-05+4.61288308e-05j\n",
      "  -1.66968943e-04-6.16940522e-05j -2.03337114e-05+3.49590179e-05j]\n",
      " [-6.79607285e-05+8.23870799e-05j -1.18922328e-04+2.61091370e-05j\n",
      "   2.16516846e-05-1.43336726e-04j  2.84318081e-04-1.35701106e-05j\n",
      "   5.64417789e-05-4.61288308e-05j  2.46372324e-03+0.00000000e+00j\n",
      "  -6.29793378e-04+1.16231407e-03j -1.72012158e-05+4.84879117e-06j]\n",
      " [-6.50681547e-05+8.58151303e-06j  4.07073541e-05-6.84706266e-05j\n",
      "  -1.53975906e-04-5.67172764e-05j  1.01834799e-04+1.68659201e-04j\n",
      "  -1.66968943e-04+6.16940522e-05j -6.29793378e-04-1.16231407e-03j\n",
      "   3.30034818e-03+0.00000000e+00j  6.79523205e-06+4.61530302e-05j]\n",
      " [-8.68053091e-05+3.30009547e-05j  1.69004611e-04-9.41880141e-06j\n",
      "   7.46344427e-05+5.41583904e-05j  1.48876470e-04-1.49467384e-04j\n",
      "  -2.03337114e-05-3.49590179e-05j -1.72012158e-05-4.84879117e-06j\n",
      "   6.79523205e-06-4.61530302e-05j  1.47131671e-03+0.00000000e+00j]]\n"
     ]
    }
   ],
   "source": [
    "print(eq_state)"
   ]
  },
  {
   "cell_type": "code",
   "execution_count": null,
   "metadata": {},
   "outputs": [],
   "source": []
  }
 ],
 "metadata": {
  "kernelspec": {
   "display_name": "Python 3",
   "language": "python",
   "name": "python3"
  },
  "language_info": {
   "codemirror_mode": {
    "name": "ipython",
    "version": 3
   },
   "file_extension": ".py",
   "mimetype": "text/x-python",
   "name": "python",
   "nbconvert_exporter": "python",
   "pygments_lexer": "ipython3",
   "version": "3.7.3"
  }
 },
 "nbformat": 4,
 "nbformat_minor": 4
}
