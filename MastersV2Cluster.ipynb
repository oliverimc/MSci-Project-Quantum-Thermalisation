{
 "cells": [
  {
   "cell_type": "code",
   "execution_count": null,
   "metadata": {},
   "outputs": [],
   "source": [
    "import ray\n",
    "from time import time\n",
    "from matplotlib import pyplot as plt\n",
    "\n",
    "from Quantum_functions import *\n",
    "from QuantumPFunctions import *\n",
    "\n",
    "gb = 1024*1024*1024\n",
    "\n",
    "from qutip import *\n",
    "# Start Ray.\n",
    "ray.init()\n",
    "#ray.init(memory =14*gb, object_store_memory = 12*gb)\n",
    "\n"
   ]
  },
  {
   "cell_type": "code",
   "execution_count": 17,
   "metadata": {},
   "outputs": [],
   "source": [
    "n = 9\n",
    "processors = 4\n",
    "state1 = tensor([basis(2,0)]*n)\n",
    "\n",
    "alpha1 = Heisenberg1dRingGen(1,1,1,n)\n",
    "alpha0 = lambda n,m,i,j: 0\n",
    "beta1 = lambda n,i : [0,0,1][i]\n",
    "beta0 = lambda n,i :0\n",
    "\n",
    "self_interaction = hamiltonian(alpha1,beta0,n)\n",
    "self_interaction = self_interaction/self_interaction.norm()\n",
    "external_interaction = hamiltonian(alpha0,beta1,n)\n",
    "external_interaction = external_interaction/external_interaction.norm()\n",
    "\n",
    "\n",
    "perturbation: Qobj = make_hermitian(rand_unitary(2**n, dims = self_interaction.dims))\n",
    "perturbation = perturbation/perturbation.norm()\n",
    "epsilon = 0.3\n",
    "\n",
    "H1 = epsilon*self_interaction + external_interaction + epsilon**2*perturbation\n",
    "H2 = external_interaction\n",
    "H3 = external_interaction + epsilon*perturbation"
   ]
  },
  {
   "cell_type": "code",
   "execution_count": null,
   "metadata": {},
   "outputs": [
    {
     "name": "stderr",
     "output_type": "stream",
     "text": [
      "179233it [09:14, 317.66it/s]"
     ]
    }
   ],
   "source": [
    "start = time()\n",
    "xs,ys = energy_trace_comp_2d(H1,1,1)\n",
    "end = time()\n",
    "\n",
    "single_t = end-start\n",
    "\n",
    "plt.scatter(xs,ys,s=1)\n",
    "plt.show()\n",
    "print(f\"Finished executing completed in {end-start}s\")"
   ]
  },
  {
   "cell_type": "code",
   "execution_count": null,
   "metadata": {},
   "outputs": [],
   "source": [
    "start = time()\n",
    "xs,ys = energy_trace_compare_p(H1,1,1,proc =processors)\n",
    "end = time()\n",
    "\n",
    "mulit_t  = end-start\n",
    "print(len(xs))\n",
    "\n",
    "plt.scatter(xs,ys,s=1)\n",
    "plt.show()\n",
    "\n",
    "print(f\"Finished executing completed in {end-start}s\")\n"
   ]
  },
  {
   "cell_type": "code",
   "execution_count": null,
   "metadata": {},
   "outputs": [],
   "source": [
    "print(f\"System obtains a speedup of {single_t/mulit_t} using {processors} processors\" )"
   ]
  },
  {
   "cell_type": "code",
   "execution_count": null,
   "metadata": {},
   "outputs": [],
   "source": []
  }
 ],
 "metadata": {
  "kernelspec": {
   "display_name": "Python 3",
   "language": "python",
   "name": "python3"
  },
  "language_info": {
   "codemirror_mode": {
    "name": "ipython",
    "version": 3
   },
   "file_extension": ".py",
   "mimetype": "text/x-python",
   "name": "python",
   "nbconvert_exporter": "python",
   "pygments_lexer": "ipython3",
   "version": "3.6.9"
  }
 },
 "nbformat": 4,
 "nbformat_minor": 4
}
