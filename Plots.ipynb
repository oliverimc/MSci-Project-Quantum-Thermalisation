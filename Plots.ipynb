{
 "cells": [
  {
   "cell_type": "code",
   "execution_count": 100,
   "metadata": {},
   "outputs": [],
   "source": [
    "from numpy import sqrt, linspace\n",
    "from matplotlib import pyplot as plt\n",
    "from qutip import *\n",
    "from itertools import chain"
   ]
  },
  {
   "cell_type": "code",
   "execution_count": 23,
   "metadata": {},
   "outputs": [],
   "source": [
    "x = linspace(0.01,1,1000)\n",
    "y = 0.1*sqrt((1-x)/x)\n",
    "\n",
    "\n",
    "\n"
   ]
  },
  {
   "cell_type": "code",
   "execution_count": 29,
   "metadata": {},
   "outputs": [],
   "source": [
    "plt.plot(x,y)\n",
    "plt.ylabel(r\"$\\sqrt{\\frac{1-\\gamma}{\\gamma}}$\")\n",
    "plt.xlabel(r\"$\\gamma$\")\n",
    "plt.title(r\"Plot of bound value against $\\gamma$ for $\\epsilon=0.1$ \")\n",
    "plt.savefig(\"ETH BOUND Plot\")"
   ]
  },
  {
   "cell_type": "code",
   "execution_count": 158,
   "metadata": {},
   "outputs": [
    {
     "name": "stdout",
     "output_type": "stream",
     "text": [
      "Quantum object: dims = [[2, 2, 2, 2, 2, 2], [1, 1, 1, 1, 1, 1]], shape = (64, 1), type = ket\n",
      "Qobj data =\n",
      "[[1.]\n",
      " [0.]\n",
      " [0.]\n",
      " [0.]\n",
      " [0.]\n",
      " [0.]\n",
      " [0.]\n",
      " [0.]\n",
      " [0.]\n",
      " [0.]\n",
      " [0.]\n",
      " [0.]\n",
      " [0.]\n",
      " [0.]\n",
      " [0.]\n",
      " [0.]\n",
      " [0.]\n",
      " [0.]\n",
      " [0.]\n",
      " [0.]\n",
      " [0.]\n",
      " [0.]\n",
      " [0.]\n",
      " [0.]\n",
      " [0.]\n",
      " [0.]\n",
      " [0.]\n",
      " [0.]\n",
      " [0.]\n",
      " [0.]\n",
      " [0.]\n",
      " [0.]\n",
      " [0.]\n",
      " [0.]\n",
      " [0.]\n",
      " [0.]\n",
      " [0.]\n",
      " [0.]\n",
      " [0.]\n",
      " [0.]\n",
      " [0.]\n",
      " [0.]\n",
      " [0.]\n",
      " [0.]\n",
      " [0.]\n",
      " [0.]\n",
      " [0.]\n",
      " [0.]\n",
      " [0.]\n",
      " [0.]\n",
      " [0.]\n",
      " [0.]\n",
      " [0.]\n",
      " [0.]\n",
      " [0.]\n",
      " [0.]\n",
      " [0.]\n",
      " [0.]\n",
      " [0.]\n",
      " [0.]\n",
      " [0.]\n",
      " [0.]\n",
      " [0.]\n",
      " [0.]]\n"
     ]
    }
   ],
   "source": [
    "n= 6\n",
    "initial_state = tensor([basis(2,0)]*n)\n",
    "print(initial_state)\n",
    "#number of spins\n",
    "\n",
    "beta0 = lambda n,m: 0\n",
    "\n",
    "def beta1(n,m):\n",
    "    if m ==2:\n",
    "        return 1\n",
    "    else:\n",
    "        return 0\n",
    "    \n",
    "    \n",
    "alpha1 = Heisenberg1dRingGen(-1,1,1,n)\n",
    "H1 = hamiltonian(alpha1,beta0, n)\n",
    "H1=H1/H1.norm()\n",
    "assert(H1.isherm)\n",
    "    \n",
    "energys,statex = H1.eigenstates()"
   ]
  },
  {
   "cell_type": "code",
   "execution_count": 159,
   "metadata": {},
   "outputs": [],
   "source": [
    "def ket2dmR(state):\n",
    "    n = len(state.dims[0])\n",
    "    return Qobj(np.array(state)@np.array(state).T.conjugate(), dims = [[2]*n,[2]*n])"
   ]
  },
  {
   "cell_type": "code",
   "execution_count": 160,
   "metadata": {},
   "outputs": [],
   "source": [
    "\n",
    "def get_equilibrated_dens_opV2(energys, statex, init_state):\n",
    "    coefs = [init_state.overlap(state) for state in statex]\n",
    "    print(coefs)\n",
    "    return sum(abs(coefs[i])**2*ket2dmR(state) for i,state in enumerate(statex))\n"
   ]
  },
  {
   "cell_type": "code",
   "execution_count": 161,
   "metadata": {},
   "outputs": [],
   "source": [
    "def get_equilibrated_dens_op(hamiltonian:Qobj, init_state:Qobj):\n",
    "    energys,statex = hamiltonian.eigenstates()\n",
    "    return sum(abs(state.overlap(init_state)**2)*state*state.dag() for state in statex)\n"
   ]
  },
  {
   "cell_type": "code",
   "execution_count": 162,
   "metadata": {},
   "outputs": [
    {
     "name": "stdout",
     "output_type": "stream",
     "text": [
      "Quantum object: dims = [[2, 2, 2, 2, 2, 2], [2, 2, 2, 2, 2, 2]], shape = (64, 64), type = oper, isherm = True\n",
      "Qobj data =\n",
      "[[0.27538462 0.         0.         ... 0.         0.         0.04461538]\n",
      " [0.         0.         0.         ... 0.         0.         0.        ]\n",
      " [0.         0.         0.         ... 0.         0.         0.        ]\n",
      " ...\n",
      " [0.         0.         0.         ... 0.         0.         0.        ]\n",
      " [0.         0.         0.         ... 0.         0.         0.        ]\n",
      " [0.04461538 0.         0.         ... 0.         0.         0.27538462]]\n"
     ]
    }
   ],
   "source": [
    "print(get_equilibrated_dens_op(H1,initial_state))"
   ]
  },
  {
   "cell_type": "code",
   "execution_count": 163,
   "metadata": {},
   "outputs": [
    {
     "name": "stdout",
     "output_type": "stream",
     "text": [
      "[(-0.47854601324452845+0j), (0.6266618692025896+0j), 0j, 0j, 0j, 0j, 0j, 0j, 0j, 0j, 0j, 0j, 0j, 0j, 0j, 0j, 0j, 0j, 0j, 0j, 0j, 0j, 0j, (-0.49999999999999883+0j), 0j, 0j, 0j, 0j, 0j, 0j, 0j, 0j, 0j, 0j, 0j, (0.23936353458184964+0j), 0j, 0j, 0j, 0j, 0j, 0j, 0j, 0j, 0j, 0j, (-0.1448920743442156+0j), 0j, 0j, 0j, 0j, 0j, 0j, 0j, 0j, 0j, 0j, 0j, (0.22360679774997883+0j), 0j, 0j, 0j, 0j, 0j]\n",
      "Quantum object: dims = [[2, 2, 2, 2, 2, 2], [2, 2, 2, 2, 2, 2]], shape = (64, 64), type = oper, isherm = True\n",
      "Qobj data =\n",
      "[[0.27538462 0.         0.         ... 0.         0.         0.04461538]\n",
      " [0.         0.         0.         ... 0.         0.         0.        ]\n",
      " [0.         0.         0.         ... 0.         0.         0.        ]\n",
      " ...\n",
      " [0.         0.         0.         ... 0.         0.         0.        ]\n",
      " [0.         0.         0.         ... 0.         0.         0.        ]\n",
      " [0.04461538 0.         0.         ... 0.         0.         0.27538462]]\n",
      "[(-0.47854601324452845+0j), (0.6266618692025896+0j), 0j, 0j, 0j, 0j, 0j, 0j, 0j, 0j, 0j, 0j, 0j, 0j, 0j, 0j, 0j, 0j, 0j, 0j, 0j, 0j, 0j, (-0.49999999999999883+0j), 0j, 0j, 0j, 0j, 0j, 0j, 0j, 0j, 0j, 0j, 0j, (0.23936353458184964+0j), 0j, 0j, 0j, 0j, 0j, 0j, 0j, 0j, 0j, 0j, (-0.1448920743442156+0j), 0j, 0j, 0j, 0j, 0j, 0j, 0j, 0j, 0j, 0j, 0j, (0.22360679774997883+0j), 0j, 0j, 0j, 0j, 0j]\n"
     ]
    }
   ],
   "source": [
    "print(get_equilibrated_dens_opV2(energys,statex,initial_state))\n",
    "\n",
    "assert(get_equilibrated_dens_opV2(energys,statex,initial_state)==get_equilibrated_dens_op(H1,initial_state))"
   ]
  },
  {
   "cell_type": "code",
   "execution_count": 164,
   "metadata": {},
   "outputs": [],
   "source": [
    "def eq_terms(energys, statex, initial, start, end):\n",
    "    \n",
    "    coefs = [initial.overlap(state) for state in statex]\n",
    "    return sum(abs(coefs[i]**2)*ket2dmR(statex[i]) for i in range(start,end))\n",
    "\n",
    "\n",
    "\n",
    "def get_equilibrated_dens_op_P(energys, statex,initial,proc=4):\n",
    "\n",
    "    number = len(statex)//proc\n",
    "        \n",
    "    results = [eq_terms(energys,statex,initial,i*number,(i+1)*number) for i in range(proc-1)]\n",
    "    \n",
    "    results.append(eq_terms(energys,statex,initial,(proc-1)*number,len(statex)))\n",
    "   \n",
    "\n",
    "    return sum(results)"
   ]
  },
  {
   "cell_type": "code",
   "execution_count": 165,
   "metadata": {},
   "outputs": [
    {
     "name": "stdout",
     "output_type": "stream",
     "text": [
      "Quantum object: dims = [[2, 2, 2, 2, 2, 2], [2, 2, 2, 2, 2, 2]], shape = (64, 64), type = oper, isherm = True\n",
      "Qobj data =\n",
      "[[0.27538462 0.         0.         ... 0.         0.         0.04461538]\n",
      " [0.         0.         0.         ... 0.         0.         0.        ]\n",
      " [0.         0.         0.         ... 0.         0.         0.        ]\n",
      " ...\n",
      " [0.         0.         0.         ... 0.         0.         0.        ]\n",
      " [0.         0.         0.         ... 0.         0.         0.        ]\n",
      " [0.04461538 0.         0.         ... 0.         0.         0.27538462]]\n",
      "[(-0.47854601324452845+0j), (0.6266618692025896+0j), 0j, 0j, 0j, 0j, 0j, 0j, 0j, 0j, 0j, 0j, 0j, 0j, 0j, 0j, 0j, 0j, 0j, 0j, 0j, 0j, 0j, (-0.49999999999999883+0j), 0j, 0j, 0j, 0j, 0j, 0j, 0j, 0j, 0j, 0j, 0j, (0.23936353458184964+0j), 0j, 0j, 0j, 0j, 0j, 0j, 0j, 0j, 0j, 0j, (-0.1448920743442156+0j), 0j, 0j, 0j, 0j, 0j, 0j, 0j, 0j, 0j, 0j, 0j, (0.22360679774997883+0j), 0j, 0j, 0j, 0j, 0j]\n"
     ]
    }
   ],
   "source": [
    "print(get_equilibrated_dens_op_P(energys,statex,initial_state))\n",
    "assert(get_equilibrated_dens_op_P(energys,statex,initial_state)==get_equilibrated_dens_opV2(energys,statex,initial_state))"
   ]
  },
  {
   "cell_type": "code",
   "execution_count": null,
   "metadata": {},
   "outputs": [],
   "source": []
  },
  {
   "cell_type": "code",
   "execution_count": null,
   "metadata": {},
   "outputs": [],
   "source": []
  }
 ],
 "metadata": {
  "kernelspec": {
   "display_name": "Python 3.7.3 64-bit",
   "language": "python",
   "name": "python37364bit7e464f35edf348d28626133659b9d87c"
  },
  "language_info": {
   "codemirror_mode": {
    "name": "ipython",
    "version": 3
   },
   "file_extension": ".py",
   "mimetype": "text/x-python",
   "name": "python",
   "nbconvert_exporter": "python",
   "pygments_lexer": "ipython3",
   "version": "3.7.3"
  }
 },
 "nbformat": 4,
 "nbformat_minor": 4
}
