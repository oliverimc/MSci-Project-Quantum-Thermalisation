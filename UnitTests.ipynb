{
 "cells": [
  {
   "cell_type": "code",
   "execution_count": 12,
   "metadata": {},
   "outputs": [],
   "source": [
    "from Quantum_functions import hamiltonian, Heisenberg1dRingGen, make_hermitian, equilibration_analyser, get_equilibrated_dens_op, energy_trace_comparison\n",
    "from QuantumLib import equilibration_analyser_p, get_equilibrated_dens_op_P, energy_trace_compare_p\n",
    "from qutip import tensor, Qobj\n",
    "from qutip.states import basis\n",
    "from qutip.random_objects import rand_unitary_haar\n",
    "import numpy as np\n",
    "import ray\n",
    "from matplotlib import pyplot as plt\n",
    "from time import time"
   ]
  },
  {
   "cell_type": "code",
   "execution_count": 3,
   "metadata": {},
   "outputs": [
    {
     "name": "stderr",
     "output_type": "stream",
     "text": [
      "2020-04-04 22:49:08,184\tWARNING services.py:586 -- setpgrp failed, processes may not be cleaned up properly: [Errno 1] Operation not permitted.\n",
      "2020-04-04 22:49:08,186\tINFO resource_spec.py:212 -- Starting Ray with 8.15 GiB memory available for workers and up to 4.09 GiB for objects. You can adjust these settings with ray.init(memory=<bytes>, object_store_memory=<bytes>).\n",
      "2020-04-04 22:49:08,533\tINFO services.py:1078 -- View the Ray dashboard at \u001b[1m\u001b[32mlocalhost:8265\u001b[39m\u001b[22m\n"
     ]
    },
    {
     "data": {
      "text/plain": [
       "{'node_ip_address': '192.168.1.97',\n",
       " 'redis_address': '192.168.1.97:27327',\n",
       " 'object_store_address': '/tmp/ray/session_2020-04-04_22-49-08_184251_5238/sockets/plasma_store',\n",
       " 'raylet_socket_name': '/tmp/ray/session_2020-04-04_22-49-08_184251_5238/sockets/raylet',\n",
       " 'webui_url': 'localhost:8265',\n",
       " 'session_dir': '/tmp/ray/session_2020-04-04_22-49-08_184251_5238'}"
      ]
     },
     "execution_count": 3,
     "metadata": {},
     "output_type": "execute_result"
    }
   ],
   "source": [
    "ray.init()"
   ]
  },
  {
   "cell_type": "code",
   "execution_count": 4,
   "metadata": {},
   "outputs": [],
   "source": [
    "n = 8\n",
    "state1 = tensor([basis(2,0)]*n)\n",
    "\n",
    "alpha1 = Heisenberg1dRingGen(1,1,1,n)\n",
    "alpha0 = lambda n,m,i,j: 0\n",
    "beta1 = lambda n,i : [0,0,1][i]\n",
    "beta0 = lambda n,i :0\n",
    "\n",
    "self_interaction = hamiltonian(alpha1,beta0,n)\n",
    "self_interaction = self_interaction/self_interaction.norm()\n",
    "external_interaction = hamiltonian(alpha0,beta1,n)\n",
    "external_interaction = external_interaction/external_interaction.norm()\n",
    "\n",
    "\n",
    "perturbation: Qobj = make_hermitian(rand_unitary_haar(2**n, dims = self_interaction.dims))\n",
    "perturbation = perturbation/perturbation.norm()\n",
    "epsilon = 0.1\n",
    "\n",
    "H1 = epsilon*self_interaction + external_interaction + epsilon**2*perturbation\n",
    "H2 = external_interaction\n",
    "H3 = external_interaction + epsilon*perturbation\n",
    "H4 = self_interaction + epsilon*external_interaction + epsilon**2*perturbation\n",
    "\n",
    "energys,states  = H1.eigenstates()\n",
    "coefs = [state.overlap(state1) for state in states]"
   ]
  },
  {
   "cell_type": "markdown",
   "metadata": {},
   "source": [
    "#### Testing Equilibrated Density Operator"
   ]
  },
  {
   "cell_type": "code",
   "execution_count": 5,
   "metadata": {},
   "outputs": [],
   "source": [
    "d1 = get_equilibrated_dens_op(H1,state1)\n",
    "d2 = get_equilibrated_dens_op_P(states,coefs,n)\n",
    "\n",
    "assert(np.allclose(d1,d2))\n"
   ]
  },
  {
   "cell_type": "markdown",
   "metadata": {},
   "source": [
    "#### Testing Equilibration"
   ]
  },
  {
   "cell_type": "code",
   "execution_count": 6,
   "metadata": {},
   "outputs": [
    {
     "data": {
      "image/png": "[encoded data removed]",
      "text/plain": [
       "<Figure size 432x288 with 1 Axes>"
      ]
     },
     "metadata": {
      "needs_background": "light"
     },
     "output_type": "display_data"
    }
   ],
   "source": [
    "xs,ys = equilibration_analyser(H1,state1,1e5,100, test = True)\n",
    "\n",
    "xs2,ys2 = equilibration_analyser_p(energys, states, state1, 1e5, 100, \"Test\", test = True)"
   ]
  },
  {
   "cell_type": "code",
   "execution_count": 7,
   "metadata": {},
   "outputs": [],
   "source": [
    "ys = np.array(ys)\n",
    "ys2 = np.array(ys2)\n",
    "\n",
    "assert(np.allclose(ys,ys2, atol=0.0001))"
   ]
  },
  {
   "cell_type": "markdown",
   "metadata": {},
   "source": [
    "#### Testing Trace Energy Compare"
   ]
  },
  {
   "cell_type": "code",
   "execution_count": 13,
   "metadata": {},
   "outputs": [
    {
     "name": "stderr",
     "output_type": "stream",
     "text": [
      "65536it [01:17, 843.78it/s]\n"
     ]
    },
    {
     "name": "stdout",
     "output_type": "stream",
     "text": [
      "77.83640813827515\n",
      "73.63825678825378\n"
     ]
    }
   ],
   "source": [
    "t_start =time()\n",
    "es,ts = energy_trace_comparison(H1,1,1)\n",
    "t_end =time()\n",
    "es2,ts2 = energy_trace_compare_p(H1,1,1)\n",
    "t_end2 =time()\n",
    "\n",
    "print(t_end-t_start)\n",
    "print(t_end2-t_end)\n",
    "\n",
    "es = np.array(es)\n",
    "es2 = np.array(es2)\n",
    "ts = np.array(ts)\n",
    "ts2 = np.array(ts2)\n"
   ]
  },
  {
   "cell_type": "code",
   "execution_count": 15,
   "metadata": {},
   "outputs": [],
   "source": [
    "\n",
    "es = np.sort(es)\n",
    "es2 =np.sort(es2)\n",
    "ts =np.sort(ts)\n",
    "ts2 = np.sort(ts2)\n",
    "\n",
    "assert(np.allclose(es,es2))\n",
    "assert(np.allclose(ts,ts2))"
   ]
  },
  {
   "cell_type": "code",
   "execution_count": null,
   "metadata": {},
   "outputs": [],
   "source": []
  }
 ],
 "metadata": {
  "kernelspec": {
   "display_name": "Python 3",
   "language": "python",
   "name": "python3"
  },
  "language_info": {
   "codemirror_mode": {
    "name": "ipython",
    "version": 3
   },
   "file_extension": ".py",
   "mimetype": "text/x-python",
   "name": "python",
   "nbconvert_exporter": "python",
   "pygments_lexer": "ipython3",
   "version": "3.6.9"
  }
 },
 "nbformat": 4,
 "nbformat_minor": 4
}
